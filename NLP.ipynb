{
 "cells": [
  {
   "cell_type": "code",
   "execution_count": 1,
   "id": "0f9dfec8",
   "metadata": {},
   "outputs": [
    {
     "name": "stderr",
     "output_type": "stream",
     "text": [
      "[nltk_data] Downloading package punkt to\n",
      "[nltk_data]     C:\\Users\\PCZ\\AppData\\Roaming\\nltk_data...\n",
      "[nltk_data]   Package punkt is already up-to-date!\n",
      "[nltk_data] Downloading package stopwords to\n",
      "[nltk_data]     C:\\Users\\PCZ\\AppData\\Roaming\\nltk_data...\n",
      "[nltk_data]   Package stopwords is already up-to-date!\n",
      "[nltk_data] Downloading package wordnet to\n",
      "[nltk_data]     C:\\Users\\PCZ\\AppData\\Roaming\\nltk_data...\n",
      "[nltk_data]   Package wordnet is already up-to-date!\n"
     ]
    },
    {
     "data": {
      "text/plain": [
       "True"
      ]
     },
     "execution_count": 1,
     "metadata": {},
     "output_type": "execute_result"
    }
   ],
   "source": [
    "import urllib\n",
    "import random\n",
    "import re\n",
    "import nltk\n",
    "import string\n",
    "nltk.download('punkt')\n",
    "from nltk.tokenize import word_tokenize, sent_tokenize\n",
    "from nltk.corpus import stopwords\n",
    "nltk.download('stopwords')\n",
    "from nltk.stem.wordnet import WordNetLemmatizer\n",
    "nltk.download('wordnet')"
   ]
  },
  {
   "cell_type": "code",
   "execution_count": 2,
   "id": "31c7fac0",
   "metadata": {},
   "outputs": [],
   "source": [
    "from sklearn.feature_extraction.text import TfidfTransformer\n",
    "from sklearn.feature_extraction.text import TfidfVectorizer\n",
    "from sklearn.preprocessing import LabelEncoder\n",
    "from sklearn.model_selection import train_test_split, GridSearchCV\n",
    "from sklearn.naive_bayes import MultinomialNB\n",
    "from sklearn import metrics\n",
    "from sklearn.linear_model import LogisticRegression\n",
    "from sklearn.decomposition import TruncatedSVD\n",
    "from sklearn.ensemble import RandomForestClassifier\n",
    "from sklearn.feature_extraction.text import CountVectorizer\n",
    "from sklearn.svm import SVC\n",
    "from xgboost import XGBClassifier\n",
    "import pandas as pd"
   ]
  },
  {
   "cell_type": "code",
   "execution_count": 287,
   "id": "bb773dbd",
   "metadata": {},
   "outputs": [],
   "source": [
    "auth1_url1 = \"https://www.gutenberg.org/files/786/786-0.txt\"\n",
    "auth1_url2 = \"https://www.gutenberg.org/files/564/564-0.txt\"\n",
    "auth1_url3 = \"https://www.gutenberg.org/files/675/675-0.txt\"\n",
    "auth1_url4 = \"https://www.gutenberg.org/files/98/98-0.txt\"\n",
    "auth1_url5 = \"https://www.gutenberg.org/files/650/650-0.txt\""
   ]
  },
  {
   "cell_type": "code",
   "execution_count": 288,
   "id": "0f9d00dc",
   "metadata": {},
   "outputs": [],
   "source": [
    "auth2_url1 = \"https://www.gutenberg.org/files/141/141-0.txt\"\n",
    "auth2_url2 = \"https://www.gutenberg.org/cache/epub/21839/pg21839.txt\"\n",
    "auth2_url3 = \"https://www.gutenberg.org/cache/epub/42671/pg42671.txt\"\n",
    "auth2_url4 = \"https://www.gutenberg.org/cache/epub/105/pg105.txt\"\n",
    "auth2_url5 = \"https://www.gutenberg.org/files/121/121-0.txt\""
   ]
  },
  {
   "cell_type": "code",
   "execution_count": 289,
   "id": "3a159e8b",
   "metadata": {},
   "outputs": [],
   "source": [
    "auth3_url1 = \"https://www.gutenberg.org/files/108/108-0.txt\"\n",
    "auth3_url2 = \"https://www.gutenberg.org/files/834/834-0.txt\"\n",
    "auth3_url3 = \"https://www.gutenberg.org/files/903/903-0.txt\"\n",
    "auth3_url4 = \"https://www.gutenberg.org/files/48320/48320-0.txt\"\n",
    "auth3_url5 = \"https://www.gutenberg.org/files/54109/54109-0.txt\""
   ]
  },
  {
   "cell_type": "code",
   "execution_count": 290,
   "id": "92d9cfd4",
   "metadata": {},
   "outputs": [],
   "source": [
    "auth4_url1 = \"https://www.gutenberg.org/files/28289/28289-0.txt\"\n",
    "auth4_url2 = \"https://www.gutenberg.org/cache/epub/17780/pg17780.txt\"\n",
    "auth4_url3 = \"https://www.gutenberg.org/files/550/550-0.txt\"\n",
    "auth4_url4 = \"https://www.gutenberg.org/cache/epub/47025/pg47025.txt\"\n",
    "auth4_url5 = \"https://www.gutenberg.org/files/10762/10762.txt\""
   ]
  },
  {
   "cell_type": "code",
   "execution_count": 291,
   "id": "3e1689eb",
   "metadata": {},
   "outputs": [],
   "source": [
    "auth5_url1 = \"https://www.gutenberg.org/cache/epub/60278/pg60278.txt\"\n",
    "auth5_url2 = \"https://www.gutenberg.org/cache/epub/66837/pg66837.txt\"\n",
    "auth5_url3 = \"https://www.gutenberg.org/files/60327/60327-0.txt\"\n",
    "auth5_url4 = \"https://www.gutenberg.org/files/3474/3474-0.txt\"\n",
    "auth5_url5 = \"https://www.gutenberg.org/cache/epub/27180/pg27180.txt\""
   ]
  },
  {
   "cell_type": "code",
   "execution_count": 295,
   "id": "87108837",
   "metadata": {},
   "outputs": [],
   "source": [
    "def extract_fragments(url, L):\n",
    "    #Read the file\n",
    "    file = urllib.request.urlopen(url)\n",
    "    lines = []\n",
    "    for line in file :\n",
    "        decoded_line = line.decode(\"utf-8\")\n",
    "        lines.append(decoded_line.strip())\n",
    "    \n",
    "    #Change the letters to lower case\n",
    "    raw_docs = [doc.lower() for doc in lines]\n",
    "    while (\"\" in raw_docs) :\n",
    "        raw_docs.remove(\"\")\n",
    "    \n",
    "    #Word tokenization\n",
    "    tokenized_doc = [word_tokenize(doc) for doc in raw_docs]\n",
    "    \n",
    "    #Remove the punctuations\n",
    "    regex = re.compile('[%s]'% re.escape(string.punctuation))\n",
    "    tokenized_docs_no_punc = []\n",
    "    for review in tokenized_doc :\n",
    "        new_review = []\n",
    "        for token in review :\n",
    "            new_token = regex.sub(u'', token)\n",
    "            if not new_token == u'' :\n",
    "                new_review.append(new_token)\n",
    "        tokenized_docs_no_punc.append(new_review)\n",
    "    \n",
    "    puncs = [\"’\", \"‘\", \"“\", \"”\"]\n",
    "    for punc in puncs :\n",
    "        for line in tokenized_docs_no_punc :\n",
    "            while(punc in line) :\n",
    "                line.remove(punc)\n",
    "    \n",
    "    #Remove the stop words\n",
    "    tokenized_doc_no_sw = []\n",
    "    for doc in tokenized_docs_no_punc :\n",
    "        new_term_vector = []\n",
    "        for word in doc :\n",
    "            if not word in stopwords.words('english') :\n",
    "                new_term_vector.append(word)\n",
    "        tokenized_doc_no_sw.append(new_term_vector)\n",
    "    \n",
    "    lists = []\n",
    "    for line in tokenized_doc_no_sw:\n",
    "        lines = []\n",
    "        for word in line:\n",
    "            lines.append(\"\".join(u for u in word if u not in (\"—\")))\n",
    "        lists.append(lines)\n",
    "    \n",
    "    #Use the lemmantization to get the root words\n",
    "    wordnet = WordNetLemmatizer()\n",
    "    pre_docs = []\n",
    "    for doc in lists :\n",
    "        final_doc = []\n",
    "        for word in doc :\n",
    "            final_doc.append(wordnet.lemmatize(word))\n",
    "        pre_docs.append(final_doc)\n",
    "    \n",
    "    num = [random.randint(200,len(lists)) for  n in range (0,3000) ]\n",
    "    numbers = set(num)\n",
    "    \n",
    "    #Extracting L number of fragments in size of 200\n",
    "    final_list = []\n",
    "    for i in numbers :\n",
    "        if len(final_list) < 200 :\n",
    "            line = lists[i]\n",
    "            if len(line) >= L:\n",
    "                digits = [dig for dig in line if dig.isdigit()]\n",
    "                if len(digits) == 0:\n",
    "                    final_list.append(' '.join(line[0:L]))\n",
    "        else :\n",
    "            break\n",
    "    return final_list"
   ]
  },
  {
   "cell_type": "code",
   "execution_count": 74,
   "id": "b218f008",
   "metadata": {},
   "outputs": [],
   "source": [
    "L = 5"
   ]
  },
  {
   "cell_type": "code",
   "execution_count": 75,
   "id": "57f5b9fb",
   "metadata": {},
   "outputs": [],
   "source": [
    "auth1_list1 = extract_fragments(auth1_url1, L)\n",
    "auth1_list2 = extract_fragments(auth1_url2, L)\n",
    "auth1_list3 = extract_fragments(auth1_url3, L)\n",
    "auth1_list4 = extract_fragments(auth1_url4, L)\n",
    "auth1_list5 = extract_fragments(auth1_url5, L)"
   ]
  },
  {
   "cell_type": "code",
   "execution_count": 76,
   "id": "96b72b70",
   "metadata": {},
   "outputs": [],
   "source": [
    "list1 = [*auth1_list1, *auth1_list2, *auth1_list3, *auth1_list4, *auth1_list5]"
   ]
  },
  {
   "cell_type": "code",
   "execution_count": 77,
   "id": "74f2869d",
   "metadata": {},
   "outputs": [],
   "source": [
    "auth2_list1 = extract_fragments(auth2_url1, L)\n",
    "auth2_list2 = extract_fragments(auth2_url2, L)\n",
    "auth2_list3 = extract_fragments(auth2_url3, L)\n",
    "auth2_list4 = extract_fragments(auth2_url4, L)\n",
    "auth2_list5 = extract_fragments(auth2_url5, L)"
   ]
  },
  {
   "cell_type": "code",
   "execution_count": 78,
   "id": "ad1d7436",
   "metadata": {},
   "outputs": [],
   "source": [
    "list2 = [*auth2_list1, *auth2_list2, *auth2_list3, *auth2_list4, *auth2_list5]"
   ]
  },
  {
   "cell_type": "code",
   "execution_count": 79,
   "id": "0cb8c740",
   "metadata": {},
   "outputs": [],
   "source": [
    "auth3_list1 = extract_fragments(auth3_url1, L)\n",
    "auth3_list2 = extract_fragments(auth3_url2, L)\n",
    "auth3_list3 = extract_fragments(auth3_url3, L)\n",
    "auth3_list4 = extract_fragments(auth3_url4, L)\n",
    "auth3_list5 = extract_fragments(auth3_url5, L)"
   ]
  },
  {
   "cell_type": "code",
   "execution_count": 80,
   "id": "0ddc6371",
   "metadata": {},
   "outputs": [],
   "source": [
    "list3 = [*auth3_list1, *auth3_list2, *auth3_list3, *auth3_list4, *auth3_list5]"
   ]
  },
  {
   "cell_type": "code",
   "execution_count": 81,
   "id": "d60b6820",
   "metadata": {},
   "outputs": [],
   "source": [
    "auth4_list1 = extract_fragments(auth4_url1, L)\n",
    "auth4_list2 = extract_fragments(auth4_url2, L)\n",
    "auth4_list3 = extract_fragments(auth4_url3, L)\n",
    "auth4_list4 = extract_fragments(auth4_url4, L)\n",
    "auth4_list5 = extract_fragments(auth4_url5, L)"
   ]
  },
  {
   "cell_type": "code",
   "execution_count": 82,
   "id": "e9fdadc5",
   "metadata": {},
   "outputs": [],
   "source": [
    "list4 = [*auth4_list1, *auth4_list2, *auth4_list3, *auth4_list4, *auth4_list5]"
   ]
  },
  {
   "cell_type": "code",
   "execution_count": 83,
   "id": "da4caa29",
   "metadata": {},
   "outputs": [],
   "source": [
    "auth5_list1 = extract_fragments(auth5_url1, L)\n",
    "auth5_list2 = extract_fragments(auth5_url2, L)\n",
    "auth5_list3 = extract_fragments(auth5_url3, L)\n",
    "auth5_list4 = extract_fragments(auth5_url4, L)\n",
    "auth5_list5 = extract_fragments(auth5_url5, L)"
   ]
  },
  {
   "cell_type": "code",
   "execution_count": 84,
   "id": "02b175e6",
   "metadata": {},
   "outputs": [],
   "source": [
    "list5 = [*auth5_list1, *auth5_list2, *auth5_list3, *auth5_list4, *auth5_list5]"
   ]
  },
  {
   "cell_type": "code",
   "execution_count": 100,
   "id": "d116d3d0",
   "metadata": {},
   "outputs": [],
   "source": [
    "x = [*list1, *list2, *list3, *list4, *list5]"
   ]
  },
  {
   "cell_type": "code",
   "execution_count": 101,
   "id": "8ee20ea7",
   "metadata": {},
   "outputs": [
    {
     "data": {
      "text/plain": [
       "5000"
      ]
     },
     "execution_count": 101,
     "metadata": {},
     "output_type": "execute_result"
    }
   ],
   "source": [
    "len(x)"
   ]
  },
  {
   "cell_type": "code",
   "execution_count": 102,
   "id": "15c89c9f",
   "metadata": {},
   "outputs": [
    {
     "data": {
      "text/plain": [
       "['singing though sunday pleasant scents',\n",
       " 'way coketown showed black mist',\n",
       " 'mouths lean old horses worn',\n",
       " 'space turn great wheel earth',\n",
       " 'tracks however slight mounds grass',\n",
       " 'distant long time solitude remained',\n",
       " 'still rachael way untrodden think',\n",
       " 'poor lad poor lad made',\n",
       " 'rachael caught arms scream resounded',\n",
       " 'terrific screams could got rachael',\n",
       " 'sound twenty thirty times took',\n",
       " 'wide prospect beautiful stillness minutes',\n",
       " 'almost carried despair brave heart',\n",
       " 'go different directions seeking aid',\n",
       " 'one happened think stephen think',\n",
       " 'turned went upon search stopped',\n",
       " 'shawl guide place threw bonnet',\n",
       " 'men lay shade asleep straw',\n",
       " 'men drunken slumber comrade shouting',\n",
       " 'message louisa wrote gave time',\n",
       " 'village windlasses ropes poles candles',\n",
       " 'things necessary fast collecting brought',\n",
       " 'seemed hours hours since left',\n",
       " 'men called listened done examined',\n",
       " 'arose surface sat upon grass',\n",
       " 'surgeon brought wine medicines expectation',\n",
       " 'men keep besides volunteers accepted',\n",
       " 'upon grass means enabling two',\n",
       " 'securely rigged poles ropes difficulties',\n",
       " 'wanting messages go return five',\n",
       " 'afternoon bright autumnal sunday candle',\n",
       " 'together attentively watching man windlass',\n",
       " 'rope went tight strained windlass',\n",
       " 'watch declared five minutes elapsed',\n",
       " 'consulted together looked anxiously surgeon',\n",
       " 'asked questions shook head receiving',\n",
       " 'sun setting red light evening',\n",
       " 'face caused distinctly seen rapt',\n",
       " 'consultation ended men returning windlass',\n",
       " 'pitman going carrying wine small',\n",
       " 'quickly repeated circle lost man',\n",
       " 'mass crumbled rubbish pit half',\n",
       " 'fall broken jagged earth side',\n",
       " 'lay upon back one arm',\n",
       " 'work written walked whole journey',\n",
       " 'crossing dangerous country dangerous time',\n",
       " 'pitman said curse upon worthy',\n",
       " 'last though stephen could speak',\n",
       " 'ready man still taking last',\n",
       " 'men holding sidesa sight make',\n",
       " 'low murmur pity went round',\n",
       " 'rays appeared draw little colour',\n",
       " 'deliverance laid upon bed straw',\n",
       " 'paler expressed form shortcropped hair',\n",
       " 'called rachael sissy time pale',\n",
       " 'face skin unwholesomely deficient natural',\n",
       " 'quadruped graminivorous forty teeth namely',\n",
       " 'sky smiled said rachael stooped',\n",
       " 'ha ha beendreadful dree long',\n",
       " 'busy insects put knuckles freckled',\n",
       " 'brothers dear thousands thousands keeping',\n",
       " 'people professed pugilist always training',\n",
       " 'continue fistic phraseology genius coming',\n",
       " 'follow left stop exchange counter',\n",
       " 'gentlefok loves work killed wi',\n",
       " 'one way anotherin muddleevery day',\n",
       " 'high authority bring great publicoffice',\n",
       " 'suff rin dearhow thou didst',\n",
       " 'wrong cried chorus sir as',\n",
       " 'louisa approached could see lying',\n",
       " 'ourseln n ha fellow weavers',\n",
       " 'must paper said thomas gradgrind',\n",
       " 'following eyes saw gazing star',\n",
       " 'picture stephen blackpool recovered old',\n",
       " 'easily believen yoong ledy sen',\n",
       " 'better unnerstan one another weak',\n",
       " 'ha father yo tak message',\n",
       " 'sir yo clear mak name',\n",
       " 'please sir would pictures pretty',\n",
       " 'charges leave none ahint single',\n",
       " 'ay ay ay fancy cried',\n",
       " 'sir reply yor son tell',\n",
       " 'things regulated governed said gentleman',\n",
       " 'arranging go said rachael looking',\n",
       " 'commissioners fact force people people',\n",
       " 'use ornament would contradiction fact',\n",
       " 'rachael beloved lass let go',\n",
       " 'carpets find foreign birds butterflies',\n",
       " 'perch upon crockery permitted paint',\n",
       " 'butterflies upon crockery never meet',\n",
       " 'whispers broke mournful silence soon',\n",
       " 'stood near louisa held father',\n",
       " 'attentive happened slipped behind wicked',\n",
       " 'factory principles like many pianoforte',\n",
       " 'oneand whispered ear without turning',\n",
       " 'father reached home sent message',\n",
       " 'desiring son come directly reply',\n",
       " 'levelling vocal music drawing models',\n",
       " 'first went back along street',\n",
       " 'thief mr bounderby quite confounded',\n",
       " 'forty thieves looking vessels ranged',\n",
       " 'went work preparatory lesson unlike',\n",
       " 'thy boiling store thou shalt',\n",
       " 'day sissy louisa tapped door',\n",
       " 'dost thou think thou wilt',\n",
       " 'appointed time come gray head',\n",
       " 'dear father said louisa kept',\n",
       " 'forbid use word express monster',\n",
       " 'wretched brother said mr gradgrind',\n",
       " 'moon could speak distinctly little',\n",
       " 'learnt silly jingle twinkle twinkle',\n",
       " 'little gradgrind ever known wonder',\n",
       " 'think must flashed upon sat',\n",
       " 'took room asked afterwards done',\n",
       " 'made plausible excuse since last',\n",
       " 'remember circumstances light afraid imagine',\n",
       " 'ownwhich induced good faith honesty',\n",
       " 'done wait bank two three',\n",
       " 'suitable opportunity making arithmetical figure',\n",
       " 'stone lodge situated moor within',\n",
       " 'least disguise toned shaded uncompromising',\n",
       " 'truth found us us ten',\n",
       " 'back wings lawn garden infant',\n",
       " 'fireproof top bottom mechanical lifts',\n",
       " 'night heard passed close rachael',\n",
       " 'cabinet specimens arranged labelled bits',\n",
       " 'described put like sissy jupe',\n",
       " 'dispatched part world caution necessary',\n",
       " 'pride phrase eminently practical considered',\n",
       " 'special application whatsoever public meeting',\n",
       " 'reached neutral ground upon outskirts',\n",
       " 'invaded sound music clashing banging',\n",
       " 'summit temple proclaimed mankind sleary',\n",
       " 'fully understood three time begin',\n",
       " 'travel night remaining two set',\n",
       " 'course encouraged seeing face knew',\n",
       " 'sought dismal spot rescued savage',\n",
       " 'postilion happened early kicking horse',\n",
       " 'intervals chaste shaksperean quips retorts',\n",
       " 'button tooley street highly novel',\n",
       " 'twenty miles opened last night',\n",
       " 'two places hilly turnpikeroad travelling',\n",
       " 'rest would vain seek anxious',\n",
       " 'turning road took back booth',\n",
       " 'brought stop think vagabonds said',\n",
       " 'grand morning performance riders commencing',\n",
       " 'course announcement bellman set feet',\n",
       " 'stones street sissy recommended avoid',\n",
       " 'knew name might order phenomenon',\n",
       " 'pay door mr sleary taking',\n",
       " 'fugitive would proceed discretion still',\n",
       " 'gothic niche mr sleary master',\n",
       " 'credulity cupid yielded invincible force',\n",
       " 'circumstances beard capacity man made',\n",
       " 'name wonder idleness folly said',\n",
       " 'moments superfluous forces extreme sharpness',\n",
       " 'base coin mr kidderminster present',\n",
       " 'anything money sissy passed unrecognised',\n",
       " 'expression brightness natural cheerful youth',\n",
       " 'humorously said cauliflower act mr',\n",
       " 'uncertain eager doubtful flashes something',\n",
       " 'child fifteen sixteen distant day',\n",
       " 'thomas though fact find difficult',\n",
       " 'sissy louisa particularly stopped afford',\n",
       " 'brought father said louisa quickly',\n",
       " 'opportunity telling mr sleary said',\n",
       " 'thomas better makes worse louisa',\n",
       " 'looked father tear fell cheek',\n",
       " 'laid hold one leg got',\n",
       " 'suspense last however little fairhaired',\n",
       " 'coming thethilia said mr sleary',\n",
       " 'stole look remarkable intense searching',\n",
       " 'stone lodge grave indignation led',\n",
       " 'pony bring againtht th named',\n",
       " 'mr bounderby near mr gradgrind',\n",
       " 'emma thee lotht huthband wath',\n",
       " 'elephant thort pagoda thing ath',\n",
       " 'never got better thee married',\n",
       " 'cheethemonger ath fell love frontand',\n",
       " 'various changes mr sleary short',\n",
       " 'year two younger eminently practical',\n",
       " 'eight added without surprising anybody',\n",
       " 'jaws daylight little wonder scholastic',\n",
       " 'leg agreeable see crowding sissy',\n",
       " 'thethilia hath kithd children hugged',\n",
       " 'birthday stood fire partly cool',\n",
       " 'soon gone continued low tone',\n",
       " 'athk know thecreth thuppothe may',\n",
       " 'th daughter h mean hope',\n",
       " 'thafe thound replied want jutht',\n",
       " 'wretches ever seen sickly always',\n",
       " 'look em said sleary look',\n",
       " 'opinionth thquire father hath hith',\n",
       " 'thay ith thquire hath thtood',\n",
       " 'mrs gradgrind stunned usual collapsed',\n",
       " 'mother left grandmother said bounderby',\n",
       " 'finger let thquire come thall',\n",
       " 'performanth thant undreth yet wath',\n",
       " 'chance would take em sell',\n",
       " 'whole plathe talk never mind',\n",
       " 'highly desirable arrangement rosa dear',\n",
       " 'time rosa occupied restless position',\n",
       " 'twinkleton would say three present',\n",
       " 'perhaps love consult person house',\n",
       " 'billickin would retort rosa spoken',\n",
       " 'entertain idea lamb fry firstly',\n",
       " 'roast fowls miss must quite',\n",
       " 'surfeited roast fowls letting alone',\n",
       " 'encouragement offered indulgent toleration wise',\n",
       " 'getting season dear really strikes',\n",
       " 'delicate cuts duck always goes',\n",
       " 'air london acquired rosa eyes',\n",
       " 'never came tired working conversing',\n",
       " 'discovery miss twinkleton read fairly',\n",
       " 'guilty glaring pious frauds instance',\n",
       " 'glowing passage ever dearest best',\n",
       " 'rich warm paradise trust love',\n",
       " 'parents sides approbation silverhaired rector',\n",
       " 'within means always welcome evening',\n",
       " 'days crept nothing happened neighbours',\n",
       " 'much gritty windows drawingroom seemed',\n",
       " 'compensation romance miss twinkleton reading',\n",
       " 'roof nothing time passed reference',\n",
       " 'denouncer pursuer neville landless mr',\n",
       " 'consistent advocate protector must least',\n",
       " 'sufficiently opposition speculated keen interest',\n",
       " 'even desired discuss determined reticence',\n",
       " 'however approached impassive moody solitary',\n",
       " 'interview mr crisparkle could determine',\n",
       " 'received imagination appeared harbour mr',\n",
       " 'well eccentric man made mention',\n",
       " 'nephew killed treacherously passionate rival',\n",
       " 'travelling baggage easily carried hand',\n",
       " 'hotel plan order pint sweet',\n",
       " 'throw away insinuates may boots',\n",
       " 'porter night certain fixed charge',\n",
       " 'similar premises many true britons',\n",
       " 'eastward stale streets takes way',\n",
       " 'destination miserable court specially miserable',\n",
       " 'alone deary worse luck better',\n",
       " 'croaking voice come come whoever',\n",
       " 'may never find em jump',\n",
       " 'cough like live things voyage',\n",
       " 'say breathed tope mr crisparkle',\n",
       " 'mr tope work way round',\n",
       " 'grew dazed mr tope eyes',\n",
       " 'divests shoes loosens cravat lies',\n",
       " 'never take way good trade',\n",
       " 'three look towards old stone',\n",
       " 'front deep cathedralbell strikes hour',\n",
       " 'spark enclosed hollow hands speaks',\n",
       " 'got pretty many smokes ready',\n",
       " 'mr jasper nephew dean asks',\n",
       " 'got world able byandby take',\n",
       " 'upon nephew affections however laudable',\n",
       " 'disagreeably reminded dinner hearing dinnerbell',\n",
       " 'certainly mr dean tell kindness',\n",
       " 'dreamy seems forget invited attention',\n",
       " 'sorry hear tope well jasper',\n",
       " 'reply slight smile certainly respects',\n",
       " 'glad hear expect young drood',\n",
       " 'expect dear fellow every moment',\n",
       " 'unmoved retouches replenishes contents bowl',\n",
       " 'wellarranged black hair whiskers looks',\n",
       " 'schoolgirl hanging chimneypiece flowing brown',\n",
       " 'almost babyish touch saucy discontent',\n",
       " 'humorouslyone might almost say revengefullylike',\n",
       " 'tonight doubt best home goodnight',\n",
       " 'tell shepherds teeell tell meee',\n",
       " 'woman sits beside attentive pipe',\n",
       " 'delivers musical rhythm withdraws amiable',\n",
       " 'sure sure sure yes yes',\n",
       " 'small inner room pleasantly lighted',\n",
       " 'know mr jasper answers pausing',\n",
       " 'observes cautiously though mentally feeling',\n",
       " 'pussy jack must drink many',\n",
       " 'think many times went journey',\n",
       " 'woman kneels upon floor arms',\n",
       " 'bed close chin upon crouching',\n",
       " 'lapses silence lays hand upon',\n",
       " 'forget mrs tope mr jasper',\n",
       " 'table genial smile ned uncle',\n",
       " 'going receive holy name praised',\n",
       " 'sally ushers dinner little present',\n",
       " 'richcoloured sherry placed upon table',\n",
       " 'time place fellowtraveller suggests adopting',\n",
       " 'nephews george wish case us',\n",
       " 'asks pussy birthday happy returns',\n",
       " 'laying affectionate laughing touch boy',\n",
       " 'hip hip hip nine times',\n",
       " 'hand intent upon heard ye',\n",
       " 'mr jasper concentrated face includes',\n",
       " 'corrected prospect level bridge nutcrackers',\n",
       " 'expression pretty well seen often',\n",
       " 'crack on mr jasper part',\n",
       " 'know miss scornful pert booh',\n",
       " 'seeming may false true false',\n",
       " 'crack crack crack slowly mr',\n",
       " 'muttering emphatically miss ye twice',\n",
       " 'complain dead gone father pussy',\n",
       " 'comes forth noon changed dress',\n",
       " 'going back country therefore yet',\n",
       " 'tut tut yes jack well',\n",
       " 'like surveyor plan uncomfortable suspicion',\n",
       " 'easily life laid scale lined',\n",
       " 'suspicion forced upon forced upon',\n",
       " 'journey end plied betwixt station',\n",
       " 'certain even went right place',\n",
       " 'mr jasper forced smile stretches',\n",
       " 'elbowchair elder sits moments rigid',\n",
       " 'passenger compliantly go along high',\n",
       " 'sitting open thoroughfare eyeing pass',\n",
       " 'tolltaker gateway though way free',\n",
       " 'even pussy houseif oneand mineif',\n",
       " 'distracting commerce calculation risk change',\n",
       " 'surname jasper christian name john',\n",
       " 'whatever call cathedral enjoying reputation',\n",
       " 'holding independent position queer old',\n",
       " 'gift teaching even pussy like',\n",
       " 'often sounds quite devilish weary',\n",
       " 'voice among arches seem mock',\n",
       " 'round wretched monk droned life',\n",
       " 'single buffer easy temper living',\n",
       " 'glances clasps hands behind wont',\n",
       " 'thought exactly found niche life',\n",
       " 'suggests backward hitch head go',\n",
       " 'woman eyes cunning smile shakes',\n",
       " 'well suppose says edwin meditating',\n",
       " 'repeats dumb reply forms lips',\n",
       " 'admire distance three times day',\n",
       " 'woman looks quickly mr datchery',\n",
       " 'gray hair blowing purposeless hands',\n",
       " 'thing outwardly late find another',\n",
       " 'know travellers lodging perceive making',\n",
       " 'love trust love trust hands',\n",
       " 'rattling customary leave amount open',\n",
       " 'little cool name sum hints',\n",
       " 'words instant says sensibly touched',\n",
       " 'laid honest last brass farden',\n",
       " 'perhaps shall grow worse grow',\n",
       " 'mr datchery sudden change countenance',\n",
       " 'course knew extremely fond really',\n",
       " 'mr jasper becoming breathing man',\n",
       " 'transition two extreme states lifts',\n",
       " 'put sentiment away jack please',\n",
       " 'afore young gentleman gave threeandsix',\n",
       " 'arising certain unavoidable flatness attends',\n",
       " 'freely quoting dinner knows old',\n",
       " 'anger brewing event thinking better',\n",
       " 'sacrifice many servile thanks goes',\n",
       " 'john jasper lamp kindled lighthouse',\n",
       " 'approaching ironbound coast may look',\n",
       " 'benevolence face attentively watched every',\n",
       " 'lingers looks though enchanted hour',\n",
       " 'moment discovered mr datchery unholy',\n",
       " 'headstones sufficiently like beat dark',\n",
       " 'justify delicious fancy hurt hit',\n",
       " 'call night leave packet ready',\n",
       " 'never means plead name mind',\n",
       " 'advances fictitious name must bestowed',\n",
       " 'abounding vestiges monastic graves cloisterham',\n",
       " 'nuns friars every ploughman outlying',\n",
       " 'forgave debt owed first became',\n",
       " 'ah yer friend jarsper go',\n",
       " 'suchlike attention ogre storybook desired',\n",
       " 'antiquity yet older traceable antiquity',\n",
       " 'streets cloisterham though prone echo',\n",
       " 'cathedralclose paved quaker settlement colour',\n",
       " 'confirmation like quakeress bonnet shady',\n",
       " 'lark cries deputy yer think',\n",
       " 'fragments old wall saint chapel',\n",
       " 'smites leg doubles fit shrill',\n",
       " 'monastery got incongruously obstructively built',\n",
       " 'incorporated many citizens minds things',\n",
       " 'purpose ses deputy must ave',\n",
       " 'past even single pawnbroker takes',\n",
       " 'pondering face breaks conference returning',\n",
       " 'ducks stage infernal regions among',\n",
       " 'conventual uses trim gate enclosing',\n",
       " 'like says mr datchery old',\n",
       " 'young ladies miss twinkleton housefront',\n",
       " 'debited hum ha small score',\n",
       " 'one cupboard shelves pauses hand',\n",
       " 'think moderate stroke concludes justified',\n",
       " 'house whether sat long low',\n",
       " 'beads mortification instead making necklaces',\n",
       " 'brilliant morning shines old city',\n",
       " 'rich trees waving balmy air',\n",
       " 'island yielding timepenetrate cathedral subdue',\n",
       " 'extras lady undertakes poetical department',\n",
       " 'tombs centuries ago grow warm',\n",
       " 'list recitals bearing unprofitable questions',\n",
       " 'sternest marble corners building fluttering',\n",
       " 'two states consciousness never clash',\n",
       " 'open come mrs tope attendant',\n",
       " 'loft fearlessly flapping dust books',\n",
       " 'little brighten eyes little become',\n",
       " 'comes john jasper leading line',\n",
       " 'ignorant granite pillar miss twinkleton',\n",
       " 'royal highness time made shade',\n",
       " 'could enlarge catalogue broken arms',\n",
       " 'gashed flesh missing teeth lacerated',\n",
       " 'smalltalk serve show much slaves',\n",
       " 'numbers belong defer public opinion',\n",
       " 'violent bear impress civilisation refinement',\n",
       " 'may partial evidence abolitionists inquiry',\n",
       " 'day visit america refer occurrences',\n",
       " 'cases occur seen territory actually',\n",
       " 'character parties concerned formed slave',\n",
       " 'hon charles c p arndt',\n",
       " 'shot dead floor council chamber',\n",
       " 'course debate deceased made statements',\n",
       " 'pronounced false made use violent',\n",
       " 'adjournment mr stepped vinyard requested',\n",
       " 'pace drew pistol shot dead',\n",
       " 'free press speaks terms merited',\n",
       " 'feelings people wisconsin vinyard within',\n",
       " 'never spoke vinyard might pleasure',\n",
       " 'shot taking effect mr b',\n",
       " 'dying returned fire killed ross',\n",
       " 'caddo gazette 12th inst learn',\n",
       " 'yards speed seemed defy pursuers',\n",
       " 'act generous part give chance',\n",
       " 'told potter might run interrupted',\n",
       " 'reached certain distance potter started',\n",
       " 'senecas quapaw shawnees mr james',\n",
       " 'major gillespie brought attack cane',\n",
       " 'one loose loose stabbed gillespie',\n",
       " 'forbear give particulars matter subject',\n",
       " 'night 6th inst governor baggs',\n",
       " '7th hopes recovery friends slight',\n",
       " 'man suspected sheriff probably possession',\n",
       " 'appears article published french side',\n",
       " 'ontario woodbury thereby much alarm',\n",
       " 'said would break cane shoulders',\n",
       " 'mr arpin given security appearance',\n",
       " '27th ult affray near carthage',\n",
       " 'carthage c sharkey george goff',\n",
       " 'shot thought mortally wounded sharkey',\n",
       " 'encounter took place sparta days',\n",
       " 'barkeeper hotel man named bury',\n",
       " 'vicksburg mr fall editor vicksburg',\n",
       " 'according arrangement parties six pistols',\n",
       " 'partnership concerns messrs kane allister',\n",
       " 'unfortunate affray caused considerable excitement',\n",
       " 'chamber since gratified much observed',\n",
       " 'entering retreated friend behind smote',\n",
       " 'preparatory cough two cried ghastly',\n",
       " 'breakfastroom stewardeh foresaw answer must',\n",
       " 'passing crown hine hat intercession',\n",
       " 'avowed truth blunt remorseless naked',\n",
       " 'persons soon part interpose else',\n",
       " 'sets laughing whenever image rises',\n",
       " 'appeal every human mind imbued',\n",
       " 'sense commonest common humanity dispassionate',\n",
       " 'cloud even passing shadow moment',\n",
       " 'revolting evidences state society exists',\n",
       " 'report one still seated upon',\n",
       " 'turn public prints running read',\n",
       " 'washing slab standingroom we could',\n",
       " 'could kept open day weather',\n",
       " 'rather spacious otherwise though verily',\n",
       " 'deducting two berths one nothing',\n",
       " 'sleeping ever made except coffins',\n",
       " 'beasts do know man whenever',\n",
       " 'runaway men women disfigured persons',\n",
       " 'somebody said course would light',\n",
       " 'assented echoing course course though',\n",
       " 'quarrels reason teach us much',\n",
       " 'beyond idiots close eyes fine',\n",
       " 'circumstance ladies cabin adjoining stateroom',\n",
       " 'equals stab pistol legislative halls',\n",
       " 'hands looking fire one party',\n",
       " 'seasons fallen momentary silence leaning',\n",
       " 'mince matter american taskmasters question',\n",
       " 'lights freedom upon earth notch',\n",
       " 'exceedingly difficult say thought remember',\n",
       " 'redhot iron human face rack',\n",
       " 'lockers artful mechanism made one',\n",
       " 'breaking living limbs soldiery mocked',\n",
       " 'whimper legends tortures practised pagan',\n",
       " 'restore forest indian village lieu',\n",
       " 'stripes let poor feather flutter',\n",
       " 'passage last year nobody ill',\n",
       " 'home fellowtraveller predictions fair winds',\n",
       " 'ten thousand small fragments genuine',\n",
       " 'conflict let said known owe',\n",
       " 'liberty america hews hacks slaves',\n",
       " 'plainly show young mothers one',\n",
       " 'pursuit sons devote better use',\n",
       " 'resist temptation troubling readers deductions',\n",
       " 'everything state bustle active preparation',\n",
       " 'blood quickened pace whirled one',\n",
       " 'american people general character social',\n",
       " 'dread delight farfamed fast american',\n",
       " 'board another filling icehouses throat',\n",
       " 'suckingpigs calves heads scores beef',\n",
       " 'endearing generous friends never upon',\n",
       " 'perplexity midst vast pile passengers',\n",
       " 'many friends seem entertain regard',\n",
       " 'however sadly sapped blighted growth',\n",
       " 'upon shore turned saw vessel',\n",
       " 'absence dwindled faded ship gone',\n",
       " 'upon spirit even sufficiently dispassionate',\n",
       " 'ruin works often adduce spite',\n",
       " 'cold punch hock champagne claret',\n",
       " 'cetera usually included unlimited order',\n",
       " 'faultless friend mr radley adelphi',\n",
       " 'calculated suffer seachange whether plain',\n",
       " 'carry says stranger jealousy distrust',\n",
       " 'prevail delicateminded turnkeys sensitive prisoner',\n",
       " 'date downfall moment printed lie',\n",
       " 'hanged next morning got well',\n",
       " 'notorious villain pens although militate',\n",
       " 'conversation astoundingly gay everybody forced',\n",
       " 'know every man thinks easily',\n",
       " 'hour going aboard drew near',\n",
       " 'another prominent feature love smart',\n",
       " 'disguise openly speculated upon time',\n",
       " 'well deserves halter though without',\n",
       " 'honesty however rash could effected',\n",
       " 'recollect occasions passing illfated cairo',\n",
       " 'passengers friends passengers luggage jumbled',\n",
       " 'exploded generating want confidence abroad',\n",
       " 'admirationas beautiful looks trim are',\n",
       " 'dialogue held hundred times disgraceful',\n",
       " 'hands pockets dispensed much consolation',\n",
       " 'might made passage everybody board',\n",
       " 'already impossible say thirteen times',\n",
       " 'national love trade though oddly',\n",
       " 'president went standing close lazy',\n",
       " 'lazy gentleman looking first questioner',\n",
       " 'persons living hotels fireside seldom',\n",
       " 'popular estimation passengers looks defiance',\n",
       " 'remain ever unprotected trading people',\n",
       " 'poetry though way profess proud',\n",
       " 'poets healthful amusements cheerful means',\n",
       " 'made fast alongside packet whose',\n",
       " 'smoking bravely giving rich promise',\n",
       " 'wholesome fancies must fade stern',\n",
       " 'hand hand hauled board breathless',\n",
       " 'schools may erected east west',\n",
       " 'masters reared scores upon scores',\n",
       " 'dozen every nook corner swarming',\n",
       " 'present abject state high moral',\n",
       " 'strides newspaper press america near',\n",
       " 'feeling must sink lower year',\n",
       " 'must become less account decent',\n",
       " 'thoroughfare sending wild stewards elfin',\n",
       " 'doors forcing passage kinds outoftheway',\n",
       " 'personal intercourse accomplished gentlemen connected',\n",
       " 'hurricane deck coolly puffing cigar',\n",
       " 'decks side look wondering whether',\n",
       " 'sees anything wrong anywhere hoping',\n",
       " 'saying warrant plea every fact',\n",
       " 'hurry shorewho shore  gentlemen',\n",
       " 'sorry say away never said',\n",
       " 'grovelling upon earth bending knee',\n",
       " 'decency honour held least regard',\n",
       " 'midst last burst started triumphantly',\n",
       " 'dulness low spirits speck mist',\n",
       " 'dare set heels upon crush',\n",
       " 'take stations hands alert flagging',\n",
       " 'returning manly senses press evil',\n",
       " 'eye every house black hand',\n",
       " 'men believe influence lessening men',\n",
       " 'faces full interest boat comes',\n",
       " 'captain appears paddlebox speaking trumpet',\n",
       " 'inclination convey adequate idea frightful',\n",
       " 'calm quiet little motion dinner',\n",
       " 'numbers publications found let form',\n",
       " 'head let repair place city',\n",
       " 'oh suppose worse anybody else',\n",
       " 'gaiety wider cultivation beautiful without',\n",
       " 'unusual love open air favourite',\n",
       " 'remark certain castiron quaintness yankees',\n",
       " 'excepting stragglers like probably like',\n",
       " 'tendency towards mistake even time',\n",
       " 'rushing water plainly heard dimly',\n",
       " 'probable efficacy summoning wandering sheep',\n",
       " 'intelligence melancholy sighing wind block',\n",
       " 'chain gleaming forth light every',\n",
       " 'find america one form religion',\n",
       " 'even people shadows streets houses',\n",
       " 'far exceeded seemed power mine',\n",
       " 'two hands feet likewise cold',\n",
       " 'assert selfrespect equality traveller bound',\n",
       " 'approach class strangers home would',\n",
       " 'already silent agonies sofa one',\n",
       " 'comically developed following case amusing',\n",
       " 'curlpapers among stray boxes everything',\n",
       " 'door open moment bosom gentle',\n",
       " 'pretty much next two days',\n",
       " 'walked lookingglass arranged hair took',\n",
       " 'shoes stranded carpetbag high dry',\n",
       " 'ceiling time door entirely disappears',\n",
       " 'accord broken knees failing legs',\n",
       " 'time got dust found pencilcase',\n",
       " 'made necessary notes finished fell',\n",
       " 'movements sometimes turns sometimes altogether',\n",
       " 'ground sleep smoke others talked',\n",
       " 'sat saddle halfhour taking note',\n",
       " 'escort drunk sober receipt escorted',\n",
       " 'light guardhouse half derived waning',\n",
       " 'new laws evrémonde new offences',\n",
       " 'emigrants rights evrémonde stolid reply',\n",
       " 'sanded handed defarge words secret',\n",
       " 'sudden impatience name sharp female',\n",
       " 'charles darnay felt hopeless entreat',\n",
       " 'streets children scarcely noticed passers',\n",
       " 'developed left england course knew',\n",
       " 'days yet misgivings dark imagined',\n",
       " 'light later time would appear',\n",
       " 'hundred thousand years away sharp',\n",
       " 'called la guillotine hardly known',\n",
       " 'people name frightful deeds soon',\n",
       " 'probably unimagined time brains doers',\n",
       " 'gaoler wife provided answer question',\n",
       " 'awaited pleasure half hour sometimes',\n",
       " 'dismal prison twilight new charge',\n",
       " 'writing knitting sewing embroidering men',\n",
       " 'misery seen charles darnay seemed',\n",
       " 'charles darnay roused gave required',\n",
       " 'hope said gentleman following chief',\n",
       " 'ah pity much regret take',\n",
       " 'short time added raising voice',\n",
       " 'render thanks heart closed gaoler',\n",
       " 'ascended forty steps prisoner half',\n",
       " 'passengers passengers suspected one another',\n",
       " 'horses cattle could clear conscience',\n",
       " 'top damned trouble enough get',\n",
       " 'gone thought wandering way left',\n",
       " 'sick feeling thought crawling creatures',\n",
       " 'five paces four half five',\n",
       " 'suit dover mail struggled jackboots',\n",
       " 'passengers squashing along side stopped',\n",
       " 'shoes made shoes prisoner counted',\n",
       " 'paced faster draw mind latter',\n",
       " 'hardihood propose another walk little',\n",
       " 'hair looked like let us',\n",
       " 'made shoes made shoes made',\n",
       " 'half scraps tossing rolling upward',\n",
       " 'descent open coachdoor let passengers',\n",
       " 'say horse canter coming joe',\n",
       " 'hurried adjuration cocked blunderbuss stood',\n",
       " 'wing large house approached courtyard',\n",
       " 'whose chocolate whose lips occupied',\n",
       " 'indivisible liberty equality fraternity death',\n",
       " 'passengers beat loud enough perhaps',\n",
       " 'man voice called mist dover',\n",
       " 'immortal boy also lookingglass let',\n",
       " 'lie lost forgotten plate jewels',\n",
       " 'tellson hidingplaces depositors rusted prisons',\n",
       " 'road assisted behind swiftly politely',\n",
       " 'deeper shade pendent lamp could',\n",
       " 'extensive standing carriages indeed carriages',\n",
       " 'streets beyond high wall strong',\n",
       " 'weird unearthly unwonted sounds terrible',\n",
       " 'irruption courtyard expected heard gate',\n",
       " 'uneasiness respecting bank great change',\n",
       " 'coach lumbered heavier wreaths mist',\n",
       " 'cried mr lorry breathless confused',\n",
       " 'matter lucie manette happened brought',\n",
       " 'smith tools couple torches tinderbox',\n",
       " 'us stopped barrier sent prison',\n",
       " 'bell great gate rang loud',\n",
       " 'noise said doctor turning towards',\n",
       " 'holding half gallon standing bridle',\n",
       " 'doctor turned hand upon fastening',\n",
       " 'hearing night quite still turned',\n",
       " 'bastille prisoner patriot paris paris',\n",
       " 'france knowing prisoner bastille would',\n",
       " 'knew would knew could help',\n",
       " 'dear got arm round held',\n",
       " 'room every one encloses secret',\n",
       " 'two minutes life death world',\n",
       " 'book shut spring ever ever',\n",
       " 'messenger horseback exactly possessions king',\n",
       " 'men whose faces long hair',\n",
       " 'grindstone brought faces horrible cruel',\n",
       " 'afraid found something singly kept',\n",
       " 'hatchets knives bayonets swords brought',\n",
       " 'sharpened red hacked swords tied',\n",
       " 'dress ligatures various kind deep',\n",
       " 'locked room murdering prisoners sure',\n",
       " 'say really power think believe',\n",
       " 'confidence manner put weapons aside',\n",
       " 'linked shoulder shoulder hand shoulder',\n",
       " 'cries live bastille prisoner help',\n",
       " 'kindred la force room bastille',\n",
       " 'little knew opened went among',\n",
       " 'safe strong sound still last',\n",
       " 'ceased run night way dig',\n",
       " 'long long night return father',\n",
       " 'charge long long night moans',\n",
       " 'varieties sunken cheek cadaverous colour',\n",
       " 'twice last spell work feeble',\n",
       " 'soon afterwards day began dawn',\n",
       " 'answer always almost eighteen years',\n",
       " 'carriages monseigneur staggering gorgeous vehicle',\n",
       " 'climbed door shut take rest',\n",
       " 'never given would never take',\n",
       " 'lorry business hours came round',\n",
       " 'imperil tellson sheltering wife emigrant',\n",
       " 'hanging face hair would suddenly',\n",
       " 'tending compromise tellson mr lorry',\n",
       " 'went quest lodging found suitable',\n",
       " 'dig dig dig impatient movement',\n",
       " 'slumbering forms mind lost hold',\n",
       " 'alone room previous night considering',\n",
       " 'hearing ever spoken words life',\n",
       " 'servant said mr lorry know',\n",
       " 'ridge ploughed land plough upon',\n",
       " 'last night horses unyoked beyond',\n",
       " 'fifty years age answer repeated',\n",
       " 'charles safe safely leave place',\n",
       " 'like larger dogkennel mr lorry',\n",
       " 'madame defarge surely said mr',\n",
       " 'beginning struck defarge manner mr',\n",
       " 'mail passengers mail always heavily',\n",
       " 'loitering accident various points road',\n",
       " 'turned defarge wife kissed one',\n",
       " 'white tops waves broke upon',\n",
       " 'defarge looked gloomily wife gave',\n",
       " 'quaint wig pair moist bright',\n",
       " 'good pross good pross defarge',\n",
       " 'pretty well also bestowed british',\n",
       " 'child said madame defarge stopping',\n",
       " 'yes sir tellson bank london',\n",
       " 'kneeled ground beside held breast',\n",
       " 'late years fifteen years since',\n",
       " 'time sir george hands time',\n",
       " 'put hands together pray merciful',\n",
       " 'madame defarge received compliment looked',\n",
       " 'destruction thundered town thundered cliffs',\n",
       " 'wife mother cried lucie earnestly',\n",
       " 'sometimes unaccountably realised large fortunes',\n",
       " 'dark sat coffeeroom fire awaiting',\n",
       " 'seen nothing else returned vengeance',\n",
       " 'borne long time said madame',\n",
       " 'mr lorry idle long time',\n",
       " 'ever found elderly gentleman fresh',\n",
       " 'arrived london would happy see',\n",
       " 'tut tut said mr lorry',\n",
       " 'shadow manner defarges dark upon',\n",
       " 'horsehair loaded heavy dark tables',\n",
       " 'graves black mahogany light speak',\n",
       " 'obscurity difficult penetrate mr lorry',\n",
       " 'way wellworn turkey carpet supposed',\n",
       " 'fire young lady seventeen ridingcloak',\n",
       " 'hair pair blue eyes met',\n",
       " 'eyes rested things sudden vivid',\n",
       " 'offering black baskets dead sea',\n",
       " 'pray take seat sir clear',\n",
       " 'charles darnay brought lawless court',\n",
       " 'doctor led words secret conference',\n",
       " 'mr lorry moved chair cast',\n",
       " 'rendered necessary go paris communicate',\n",
       " 'sights seen brief snatches food',\n",
       " 'cut pieces one prisoner said',\n",
       " 'curtseyed young ladies made curtseys',\n",
       " 'awful nightmare helped healer tended',\n",
       " 'gentlest solicitude made litter escorted',\n",
       " 'carefully spot caught weapons plunged',\n",
       " 'gentleman left london think messenger',\n",
       " 'felt suffering strength power first',\n",
       " 'could break prison door daughter',\n",
       " 'characteristic besides singular raised hand',\n",
       " 'involuntary action caught stayed passing',\n",
       " 'man whose life always seemed',\n",
       " 'lain dormant cessation usefulness believed',\n",
       " 'eyebrows little feminine nose line',\n",
       " 'mankind bond free rich poor',\n",
       " 'adopted country presume better address',\n",
       " 'miss manette man business business',\n",
       " 'plots prisons wildest pointed emigrants',\n",
       " 'nothing unbecoming tinged pride natural',\n",
       " 'yes beauvais like monsieur manette',\n",
       " 'time french house oh twenty',\n",
       " 'time may ask time sir',\n",
       " 'affection could reverse could pride',\n",
       " 'similar way trustee one kind',\n",
       " 'public current time set strong',\n",
       " 'era began king tried doomed',\n",
       " 'left orphan mother surviving father',\n",
       " 'conducted young lady straightway chair',\n",
       " 'private solicitude could rear deluge',\n",
       " 'fellowcreatures mere business relations reflect',\n",
       " 'count time none hold lost',\n",
       " 'good innocent person bad guilty',\n",
       " 'people committed offence could obtain',\n",
       " 'general gaze foundations world figure',\n",
       " 'popular theme jests best cure',\n",
       " 'oblivion prison length time wife',\n",
       " 'quite vain history father would',\n",
       " 'devil put together occasion wanted',\n",
       " 'good twentytwo friends high public',\n",
       " 'suffered intensely cause little child',\n",
       " 'came determination sparing poor child',\n",
       " 'inheritance part agony known pains',\n",
       " 'strange little towers gardens fields',\n",
       " 'used purpose ruinous buildings sorts',\n",
       " 'hôtel de ville sometimes guardhouse',\n",
       " 'sometimes pass village inn crumbling',\n",
       " 'wine inside flutters idly wind',\n",
       " 'looking thought doubt great blue',\n",
       " 'furniture immense weight thickness pair',\n",
       " 'diligence twice thrice aday dusty',\n",
       " 'outsides blue frocks like butchers',\n",
       " 'idiot head youngfrance passengers staring',\n",
       " 'beards waists blue spectacles awfully',\n",
       " 'warlike eyes big sticks clenched',\n",
       " 'clattering coaches englishman would believe',\n",
       " 'dawdle solitary places holding cows',\n",
       " 'dinner next stage end long',\n",
       " 'carriage begins rattle roll horribly',\n",
       " 'equipage great firework mere sight',\n",
       " 'splutter devil crack crack crack',\n",
       " 'jolt crack bump crickcrack round',\n",
       " 'paved hill side gutter bump',\n",
       " 'jog crick crick crick crack',\n",
       " 'wooden archway right rumble rumble',\n",
       " 'landlady hôtel de l ecu',\n",
       " 'like bosom friend staying hôtel',\n",
       " 'monsieur le curé walking corner',\n",
       " 'carriagedoor asks question enhance expectation',\n",
       " 'murmurs admiration heard among boys',\n",
       " 'door opened breathless expectation lady',\n",
       " 'gets ah beautiful little boy',\n",
       " 'tender little family baby handed',\n",
       " 'baby topped everything rapture expended',\n",
       " 'two nurses tumble enthusiasm swelling',\n",
       " 'press carriage look walk round',\n",
       " 'something touch carriage held many',\n",
       " 'rooms first floor except nursery',\n",
       " 'great rambling chamber four five',\n",
       " 'door stable sleeping apartments large',\n",
       " 'red white drapery sittingroom famous',\n",
       " 'laid three napkins folded cockedhat',\n",
       " 'vases glass shades filled artificial',\n",
       " 'plenty clocks whole party motion',\n",
       " 'walks one hand like truncheons',\n",
       " 'dinner announced thin soup large',\n",
       " 'afterwards dessert afterwards lack wine',\n",
       " 'dishes good always ready instantly',\n",
       " 'sliced contents pretty large decanter',\n",
       " 'cathedral whose massive tower frowns',\n",
       " 'inn go solemn grand dim',\n",
       " 'dim last polite old lanthornjawed',\n",
       " 'among grim columns like lost',\n",
       " 'underneath balcony return inferior servants',\n",
       " 'supping open air great table',\n",
       " 'vegetables smoking hot served iron',\n",
       " 'gentleman red beard playing billiards',\n",
       " 'hands cigars mouths cross recross',\n",
       " 'looking round certain nothing left',\n",
       " 'got hand cucumbers long strip',\n",
       " 'throat best light bordeaux wine',\n",
       " 'disputes violently still landlord brother',\n",
       " 'looks drag inspects wheels jumps',\n",
       " 'market morning market held little',\n",
       " 'red green white canvassed stalls',\n",
       " 'merchandise country people grouped clean',\n",
       " 'place looks stage great theatre',\n",
       " 'cold splashing pavement one place',\n",
       " 'chalons fair restingplace right good',\n",
       " 'plain jagged rows irregular poplars',\n",
       " 'reach one beforementioned steamboats eight',\n",
       " 'times tumbled clouds whole town',\n",
       " 'tumbled anyhow sky first caught',\n",
       " 'hills hem city houses swarm',\n",
       " 'manufacturing one bears fruit would',\n",
       " 'cool evening rather faded heat',\n",
       " 'went see cathedral divers old',\n",
       " 'wax saint little box like',\n",
       " 'terms even westminster abbey might',\n",
       " 'dates dimensions endowments history written',\n",
       " 'thereupon host little doors flew',\n",
       " 'usually attaches figures moved clockwork',\n",
       " 'severally wand centre puppet virgin',\n",
       " 'little door violently taking emblematic',\n",
       " 'perfectly understood subject anticipation showman',\n",
       " 'disposed pardon monsieur said sacristan',\n",
       " 'soon daybreak next morning steaming',\n",
       " 'rate twenty miles hour dirty',\n",
       " 'indications alps lowering distance rushing',\n",
       " 'beautiful great height making buildings',\n",
       " 'heavy green olivetree puny size',\n",
       " 'lilliputian men women bank made',\n",
       " 'winding turn new beauties view',\n",
       " 'lay us afternoon broken bridge',\n",
       " 'house bright stuffs handkerchiefs curiosities',\n",
       " 'staring daubs portraits exposed sale',\n",
       " 'quaint lively much set glimpses',\n",
       " 'like one descriptions arabian nights',\n",
       " 'calenders might knocked one doors',\n",
       " 'rang porter persisted asking questionsthe',\n",
       " 'delicious purchases put basket morningmight',\n",
       " 'breakfast next morning sallied forth',\n",
       " 'delicious breeze blowing north made',\n",
       " 'delightful though pavementstones stones walls',\n",
       " 'went first rocky height cathedral',\n",
       " 'performing auditory like lyons namely',\n",
       " 'old women baby selfpossessed dog',\n",
       " 'altarrails ending door constitutional walk',\n",
       " 'red curtains windows glittering altar',\n",
       " 'going apart church see painting',\n",
       " 'closely might otherwise done great',\n",
       " 'got likely poor signpainters eke',\n",
       " 'sparing colours one lady toe',\n",
       " 'amputatedan operation saintly personage sailed',\n",
       " 'room upon couch superintend another',\n",
       " 'tripod slopbasin usual form washingstand',\n",
       " 'hit upon idea putting family',\n",
       " 'legs sticking behind floor like',\n",
       " 'startled horse bay griffin whether',\n",
       " 'know galloping away ding dong',\n",
       " 'though votive offerings unknown pagan',\n",
       " 'evidently among many compromises made',\n",
       " 'true true infancy could wish',\n",
       " 'qualities grateful humble christian spirit',\n",
       " 'gloomy suites state apartments shut',\n",
       " 'jail though dropped money prisoners',\n",
       " 'prisoners looked iron bars high',\n",
       " 'world conjured devil within though',\n",
       " 'demonstrators resided palace infant had',\n",
       " 'born recollect right i relate',\n",
       " 'fierce little rapid sparkling energetic',\n",
       " 'extreme never spoke without stopping',\n",
       " 'stamped feet clutched us arms',\n",
       " 'forefinger approaching remains new horrorlooking',\n",
       " 'locked behind us entered narrow',\n",
       " 'fallen stones heaps rubbish part',\n",
       " 'ruined subterranean passage communicated said',\n",
       " 'courtyard dungeonwe stood within another',\n",
       " 'iron chain wall stands shut',\n",
       " 'dark still massively doored fastened',\n",
       " 'goblin looking back described went',\n",
       " 'removed yesterday conceive parable good',\n",
       " 'accused heard noted many brought',\n",
       " 'goblin clutches wrist lays skinny',\n",
       " 'yells like fiend la salle',\n",
       " 'victim cries oh goblin goblin',\n",
       " 'legs upon heap stones five',\n",
       " 'describing sunburnt arms wheel heavy',\n",
       " 'unbelieving body heretic every breath',\n",
       " 'mount elect disciples never miracle',\n",
       " 'never struck man palsy blindness',\n",
       " 'madness one affliction mankind never',\n",
       " 'persons hung poised dangling whole',\n",
       " 'goblin whispers monsieur heard tower',\n",
       " 'opened speaking trapdoor wall monsieur',\n",
       " 'looks downward bottom upward top',\n",
       " 'lofty tower dismal dark cold',\n",
       " 'inquisition says goblin edging head',\n",
       " 'persons men women priests says',\n",
       " 'murdered hurled dying dead dreadful',\n",
       " 'ghastly tokens massacre soon one',\n",
       " 'strong building deed done remains',\n",
       " 'lie memories men plain see',\n",
       " 'change men nature last service',\n",
       " 'ready means gratifying furious beastly',\n",
       " 'bastile moats dungeons necessarily betraying',\n",
       " 'goblin finger lifted steals chapel',\n",
       " 'holy office stops certain part',\n",
       " 'courier explaining something hits sounding',\n",
       " 'round little trapdoor floor round',\n",
       " 'crash goblin energy though light',\n",
       " 'oubliettes voilà les oubliettes subterranean',\n",
       " 'terrible deadly les oubliettes de',\n",
       " 'blood ran cold looked goblin',\n",
       " 'forgotten creatures recollections world outside',\n",
       " 'ring unavailing groans thrill felt',\n",
       " 'accursed wall decayed broken sun',\n",
       " 'look lovely blind man newly',\n",
       " 'traveller sees calmly majestically treading',\n",
       " 'goblin shown les oubliettes felt',\n",
       " 'struck let door fall crash',\n",
       " 'gateway fortress buy little history',\n",
       " 'wallin softened light forgelike chimney',\n",
       " 'counter door bottles jars glasses',\n",
       " 'walked round building outside sort',\n",
       " 'vaults given assurance immense thickness',\n",
       " 'giddy height walls enormous strength',\n",
       " 'towers great extent building gigantic',\n",
       " 'frowning aspect barbarous irregularity awaken',\n",
       " 'recollection opposite old uses impregnable',\n",
       " 'inquisition one time house feasting',\n",
       " 'religion blood gives every stone',\n",
       " 'forced echo rough talk common',\n",
       " 'sky roof chambers crueltythat desolation',\n",
       " 'could waste like sunbeams secret',\n",
       " 'quit palace popes let translate',\n",
       " 'pope legate seriously insulted distinguished',\n",
       " 'avignon whose relations revenge seized',\n",
       " 'breast less resolved upon gratification',\n",
       " 'last even made fulness time',\n",
       " 'complete reconciliation apparent sincerity prevailed',\n",
       " 'officers within minutes afterwards five',\n",
       " 'roads outside walls strewn people',\n",
       " ...]"
      ]
     },
     "execution_count": 102,
     "metadata": {},
     "output_type": "execute_result"
    }
   ],
   "source": [
    "x"
   ]
  },
  {
   "cell_type": "code",
   "execution_count": 90,
   "id": "f2b2264e",
   "metadata": {},
   "outputs": [],
   "source": [
    "with open(\"dataset(l=5).txt\", 'w') as output:\n",
    "    for row in x :\n",
    "        output.write(str(row) + '\\n')"
   ]
  },
  {
   "cell_type": "code",
   "execution_count": 89,
   "id": "d1766408",
   "metadata": {},
   "outputs": [],
   "source": [
    "x = []\n",
    "filename = 'dataset(l=5).txt'\n",
    "with open(filename) as file:\n",
    "    while (line := file.readline().rstrip()):\n",
    "        x.append(line)"
   ]
  },
  {
   "cell_type": "code",
   "execution_count": 92,
   "id": "db5d408e",
   "metadata": {},
   "outputs": [],
   "source": [
    "authors = ['Charles Dickens', 'Jane Austen', 'Sir Arthur Conan Doyle', 'George Eliot', 'Mary Shelley']\n",
    "target = []\n",
    "for author in authors :\n",
    "    for i in range(0, 1000):\n",
    "        target.append(author)\n",
    "y = LabelEncoder().fit_transform(target)"
   ]
  },
  {
   "cell_type": "code",
   "execution_count": 93,
   "id": "c57a5cdf",
   "metadata": {},
   "outputs": [
    {
     "data": {
      "text/plain": [
       "5000"
      ]
     },
     "execution_count": 93,
     "metadata": {},
     "output_type": "execute_result"
    }
   ],
   "source": [
    "len(y)"
   ]
  },
  {
   "cell_type": "code",
   "execution_count": 95,
   "id": "7c7439dd",
   "metadata": {},
   "outputs": [
    {
     "data": {
      "text/plain": [
       "{0, 1, 2, 3, 4}"
      ]
     },
     "execution_count": 95,
     "metadata": {},
     "output_type": "execute_result"
    }
   ],
   "source": [
    "set(y)"
   ]
  },
  {
   "cell_type": "code",
   "execution_count": null,
   "id": "6b26dbd3",
   "metadata": {},
   "outputs": [],
   "source": []
  },
  {
   "cell_type": "markdown",
   "id": "5428d1e5",
   "metadata": {},
   "source": [
    "## BOW"
   ]
  },
  {
   "cell_type": "code",
   "execution_count": 245,
   "id": "71b651ca",
   "metadata": {},
   "outputs": [],
   "source": [
    "bow = CountVectorizer()"
   ]
  },
  {
   "cell_type": "code",
   "execution_count": 246,
   "id": "4dc5b4cf",
   "metadata": {},
   "outputs": [],
   "source": [
    "x_train, x_test, y_train, y_test = train_test_split(x, y, test_size=0.2, random_state=42)\n",
    "x_train_bow = bow.fit_transform(x_train)"
   ]
  },
  {
   "cell_type": "markdown",
   "id": "9e5017a6",
   "metadata": {},
   "source": [
    "Logistic Regression"
   ]
  },
  {
   "cell_type": "code",
   "execution_count": 247,
   "id": "27edc188",
   "metadata": {},
   "outputs": [],
   "source": [
    "lr_par = {\n",
    "    'penalty' : ['l2'],\n",
    "    'C' : [0.1, 1.0, 10.0],\n",
    "    'solver' : ['newton-cg', 'lbfgs', 'sag', 'saga'],\n",
    "    'max_iter' : [100, 200, 300]\n",
    "}"
   ]
  },
  {
   "cell_type": "code",
   "execution_count": 248,
   "id": "01c60814",
   "metadata": {},
   "outputs": [
    {
     "data": {
      "text/plain": [
       "{'C': 1.0, 'max_iter': 100, 'penalty': 'l2', 'solver': 'newton-cg'}"
      ]
     },
     "execution_count": 248,
     "metadata": {},
     "output_type": "execute_result"
    }
   ],
   "source": [
    "LR = LogisticRegression()\n",
    "lr_grid = GridSearchCV(LR, lr_par, refit = True, n_jobs=-1, cv=5)\n",
    "lr_grid.fit(x_train_bow, y_train)\n",
    "opt_par = lr_grid.best_params_\n",
    "opt_par"
   ]
  },
  {
   "cell_type": "code",
   "execution_count": 298,
   "id": "8a2debb1",
   "metadata": {},
   "outputs": [],
   "source": [
    "LR = LogisticRegression(C = 1.0, max_iter = 100, penalty = 'l2', solver = 'newton-cg')"
   ]
  },
  {
   "cell_type": "code",
   "execution_count": 299,
   "id": "e572d0b7",
   "metadata": {},
   "outputs": [],
   "source": [
    "lr_train_acc = []\n",
    "lr_test_acc = []\n",
    "for i in range (0, 20):\n",
    "    x_train, x_test, y_train, y_test = train_test_split(x, y, test_size=0.2, random_state=i+1)\n",
    "    bow = CountVectorizer()\n",
    "    x_train_bow = bow.fit_transform(x_train)\n",
    "    x_test_bow = bow.transform(x_test)\n",
    "    LR.fit(x_train_bow, y_train)\n",
    "    y_pred = LR.predict(x_test_bow)\n",
    "    y_train_pred = LR.predict(x_train_bow)\n",
    "    lr_train_acc.append(metrics.accuracy_score(y_train, y_train_pred))\n",
    "    lr_test_acc.append(metrics.accuracy_score(y_test, y_pred))"
   ]
  },
  {
   "cell_type": "code",
   "execution_count": 300,
   "id": "e8c2ee2a",
   "metadata": {},
   "outputs": [],
   "source": [
    "lr_mean_train_acc_bow = sum(lr_train_acc)/len(lr_train_acc)\n",
    "lr_mean_test_acc_bow = sum(lr_test_acc)/len(lr_test_acc)"
   ]
  },
  {
   "cell_type": "code",
   "execution_count": 301,
   "id": "812fd6c7",
   "metadata": {},
   "outputs": [
    {
     "data": {
      "text/plain": [
       "(0.9793125, 0.4800999999999999)"
      ]
     },
     "execution_count": 301,
     "metadata": {},
     "output_type": "execute_result"
    }
   ],
   "source": [
    "lr_mean_train_acc_bow, lr_mean_test_acc_bow"
   ]
  },
  {
   "cell_type": "code",
   "execution_count": null,
   "id": "d869eafe",
   "metadata": {},
   "outputs": [],
   "source": []
  },
  {
   "cell_type": "markdown",
   "id": "4ebce1d5",
   "metadata": {},
   "source": [
    "Support Vector Machines"
   ]
  },
  {
   "cell_type": "code",
   "execution_count": 249,
   "id": "5660a0af",
   "metadata": {},
   "outputs": [],
   "source": [
    "svm_par = [\n",
    "   { 'C' : [0.1, 1.0, 10.0],\n",
    "    'kernel' : ['linear']\n",
    "   },\n",
    "   { 'C' : [0.1, 1.0, 10.0],\n",
    "    'kernel' : ['poly'],\n",
    "    'degree' : [2, 3, 4],\n",
    "    'gamma' : ['scale', 'auto']\n",
    "   },\n",
    "   { 'C' : [0.1, 1.0, 10.0],\n",
    "    'kernel' : ['rbf', 'sigmoid'],\n",
    "    'gamma' : ['scale', 'auto']\n",
    "    }\n",
    "]"
   ]
  },
  {
   "cell_type": "code",
   "execution_count": 250,
   "id": "62259f75",
   "metadata": {},
   "outputs": [
    {
     "data": {
      "text/plain": [
       "{'C': 10.0, 'gamma': 'scale', 'kernel': 'rbf'}"
      ]
     },
     "execution_count": 250,
     "metadata": {},
     "output_type": "execute_result"
    }
   ],
   "source": [
    "SVM = SVC()\n",
    "svm_grid = GridSearchCV(SVM, svm_par, refit = True, n_jobs=-1, cv=5)\n",
    "svm_grid.fit(x_train_bow, y_train)\n",
    "opt_par = svm_grid.best_params_\n",
    "opt_par"
   ]
  },
  {
   "cell_type": "code",
   "execution_count": 302,
   "id": "a130f90b",
   "metadata": {},
   "outputs": [],
   "source": [
    "SVM = SVC(C = 10.0, gamma = 'scale', kernel = 'rbf' )"
   ]
  },
  {
   "cell_type": "code",
   "execution_count": 303,
   "id": "d1283699",
   "metadata": {},
   "outputs": [],
   "source": [
    "svm_train_acc = []\n",
    "svm_test_acc = []\n",
    "for i in range (0, 20):\n",
    "    x_train, x_test, y_train, y_test = train_test_split(x, y, test_size=0.2, random_state=i+1)\n",
    "    bow = CountVectorizer()\n",
    "    x_train_bow = bow.fit_transform(x_train)\n",
    "    x_test_bow = bow.transform(x_test)\n",
    "    SVM.fit(x_train_bow, y_train)\n",
    "    y_pred = SVM.predict(x_test_bow)\n",
    "    y_train_pred = SVM.predict(x_train_bow)\n",
    "    svm_train_acc.append(metrics.accuracy_score(y_train, y_train_pred))\n",
    "    svm_test_acc.append(metrics.accuracy_score(y_test, y_pred))"
   ]
  },
  {
   "cell_type": "code",
   "execution_count": 304,
   "id": "2b927fd1",
   "metadata": {},
   "outputs": [],
   "source": [
    "svm_mean_train_acc_bow = sum(svm_train_acc)/len(svm_train_acc)\n",
    "svm_mean_test_acc_bow = sum(svm_test_acc)/len(svm_test_acc)"
   ]
  },
  {
   "cell_type": "code",
   "execution_count": 305,
   "id": "726b9fb7",
   "metadata": {},
   "outputs": [
    {
     "data": {
      "text/plain": [
       "(1.0, 0.45135000000000003)"
      ]
     },
     "execution_count": 305,
     "metadata": {},
     "output_type": "execute_result"
    }
   ],
   "source": [
    "svm_mean_train_acc_bow, svm_mean_test_acc_bow"
   ]
  },
  {
   "cell_type": "code",
   "execution_count": null,
   "id": "4c7b518d",
   "metadata": {},
   "outputs": [],
   "source": []
  },
  {
   "cell_type": "markdown",
   "id": "21b2c55b",
   "metadata": {},
   "source": [
    "Random Forest"
   ]
  },
  {
   "cell_type": "code",
   "execution_count": 251,
   "id": "82d9ba02",
   "metadata": {},
   "outputs": [],
   "source": [
    "rf_par = {\n",
    "    'n_estimators' : [50, 100, 200],\n",
    "    'criterion' : ['gini', 'entropy'],\n",
    "    'max_depth' : [8, 16, 32],\n",
    "    'max_features' : ['sqrt', 'log2']\n",
    "}"
   ]
  },
  {
   "cell_type": "code",
   "execution_count": 252,
   "id": "35f0485f",
   "metadata": {},
   "outputs": [
    {
     "data": {
      "text/plain": [
       "{'criterion': 'entropy',\n",
       " 'max_depth': 32,\n",
       " 'max_features': 'log2',\n",
       " 'n_estimators': 200}"
      ]
     },
     "execution_count": 252,
     "metadata": {},
     "output_type": "execute_result"
    }
   ],
   "source": [
    "RF = RandomForestClassifier()\n",
    "rf_grid = GridSearchCV(RF, rf_par, refit = True, n_jobs=-1, cv=5)\n",
    "rf_grid.fit(x_train_bow, y_train)\n",
    "opt_par = rf_grid.best_params_\n",
    "opt_par"
   ]
  },
  {
   "cell_type": "code",
   "execution_count": 306,
   "id": "0953f51d",
   "metadata": {},
   "outputs": [],
   "source": [
    "RF = RandomForestClassifier(criterion = 'entropy', max_depth = 32, max_features = 'log2', n_estimators = 200 )"
   ]
  },
  {
   "cell_type": "code",
   "execution_count": 307,
   "id": "9bcd9d45",
   "metadata": {},
   "outputs": [],
   "source": [
    "rf_train_acc = []\n",
    "rf_test_acc = []\n",
    "for i in range (0, 20):\n",
    "    x_train, x_test, y_train, y_test = train_test_split(x, y, test_size=0.2, random_state=i+1)\n",
    "    bow = CountVectorizer()\n",
    "    x_train_bow = bow.fit_transform(x_train)\n",
    "    x_test_bow = bow.transform(x_test)\n",
    "    RF.fit(x_train_bow, y_train)\n",
    "    y_pred = RF.predict(x_test_bow)\n",
    "    y_train_pred = RF.predict(x_train_bow)\n",
    "    rf_train_acc.append(metrics.accuracy_score(y_train, y_train_pred))\n",
    "    rf_test_acc.append(metrics.accuracy_score(y_test, y_pred))"
   ]
  },
  {
   "cell_type": "code",
   "execution_count": 308,
   "id": "fa5206f3",
   "metadata": {},
   "outputs": [],
   "source": [
    "rf_mean_train_acc_bow = sum(rf_train_acc)/len(rf_train_acc)\n",
    "rf_mean_test_acc_bow = sum(rf_test_acc)/len(rf_test_acc)"
   ]
  },
  {
   "cell_type": "code",
   "execution_count": 309,
   "id": "1a1bd0df",
   "metadata": {},
   "outputs": [
    {
     "data": {
      "text/plain": [
       "(0.9527875, 0.4276000000000001)"
      ]
     },
     "execution_count": 309,
     "metadata": {},
     "output_type": "execute_result"
    }
   ],
   "source": [
    "rf_mean_train_acc_bow, rf_mean_test_acc_bow"
   ]
  },
  {
   "cell_type": "code",
   "execution_count": null,
   "id": "c290946a",
   "metadata": {},
   "outputs": [],
   "source": []
  },
  {
   "cell_type": "markdown",
   "id": "158c3e80",
   "metadata": {},
   "source": [
    "Naive Bays "
   ]
  },
  {
   "cell_type": "code",
   "execution_count": 310,
   "id": "c2fcc993",
   "metadata": {},
   "outputs": [],
   "source": [
    "NB = MultinomialNB()"
   ]
  },
  {
   "cell_type": "code",
   "execution_count": 311,
   "id": "77ce61da",
   "metadata": {},
   "outputs": [],
   "source": [
    "nb_train_acc = []\n",
    "nb_test_acc = []\n",
    "for i in range (0, 20):\n",
    "    x_train, x_test, y_train, y_test = train_test_split(x, y, test_size=0.2, random_state=i+1)\n",
    "    bow = CountVectorizer()\n",
    "    x_train_bow = bow.fit_transform(x_train)\n",
    "    x_test_bow = bow.transform(x_test)\n",
    "    NB.fit(x_train_bow, y_train)\n",
    "    y_pred = NB.predict(x_test_bow)\n",
    "    y_train_pred = NB.predict(x_train_bow)\n",
    "    nb_train_acc.append(metrics.accuracy_score(y_train, y_train_pred))\n",
    "    nb_test_acc.append(metrics.accuracy_score(y_test, y_pred))"
   ]
  },
  {
   "cell_type": "code",
   "execution_count": 312,
   "id": "75646e26",
   "metadata": {},
   "outputs": [],
   "source": [
    "nb_mean_train_acc_bow = sum(nb_train_acc)/len(nb_train_acc)\n",
    "nb_mean_test_acc_bow = sum(nb_test_acc)/len(nb_test_acc)"
   ]
  },
  {
   "cell_type": "code",
   "execution_count": 313,
   "id": "0e6c636e",
   "metadata": {},
   "outputs": [
    {
     "data": {
      "text/plain": [
       "(0.9110250000000001, 0.4972499999999999)"
      ]
     },
     "execution_count": 313,
     "metadata": {},
     "output_type": "execute_result"
    }
   ],
   "source": [
    "nb_mean_train_acc_bow, nb_mean_test_acc_bow"
   ]
  },
  {
   "cell_type": "code",
   "execution_count": null,
   "id": "b699e1b9",
   "metadata": {},
   "outputs": [],
   "source": []
  },
  {
   "cell_type": "markdown",
   "id": "70265bd5",
   "metadata": {},
   "source": [
    "XGBoost"
   ]
  },
  {
   "cell_type": "code",
   "execution_count": 253,
   "id": "5fd4a9c4",
   "metadata": {},
   "outputs": [],
   "source": [
    "xgb_par = {\n",
    "    'n_estimators' : [20, 50, 100],\n",
    "    'use_label_encoder' : [False],\n",
    "    'max_depth' : [8, 16, 32],\n",
    "    'learning_rate' : [0.01, 0.1]\n",
    "}"
   ]
  },
  {
   "cell_type": "code",
   "execution_count": 254,
   "id": "d50e2b0f",
   "metadata": {},
   "outputs": [
    {
     "name": "stdout",
     "output_type": "stream",
     "text": [
      "[23:09:38] WARNING: C:/Users/Administrator/workspace/xgboost-win64_release_1.5.0/src/learner.cc:1115: Starting in XGBoost 1.3.0, the default evaluation metric used with the objective 'multi:softprob' was changed from 'merror' to 'mlogloss'. Explicitly set eval_metric if you'd like to restore the old behavior.\n"
     ]
    },
    {
     "data": {
      "text/plain": [
       "{'learning_rate': 0.1,\n",
       " 'max_depth': 32,\n",
       " 'n_estimators': 100,\n",
       " 'use_label_encoder': False}"
      ]
     },
     "execution_count": 254,
     "metadata": {},
     "output_type": "execute_result"
    }
   ],
   "source": [
    "XGB = XGBClassifier()\n",
    "xgb_grid = GridSearchCV(XGB, xgb_par, refit = True, n_jobs=-1, cv=5)\n",
    "xgb_grid.fit(x_train_bow, y_train)\n",
    "opt_par = xgb_grid.best_params_\n",
    "opt_par"
   ]
  },
  {
   "cell_type": "code",
   "execution_count": 314,
   "id": "89fad4bf",
   "metadata": {},
   "outputs": [],
   "source": [
    "XGB = XGBClassifier(learning_rate = 0.1, max_depth = 32, n_estimators = 100, use_label_encoder = False )"
   ]
  },
  {
   "cell_type": "code",
   "execution_count": 315,
   "id": "16ffaf9c",
   "metadata": {},
   "outputs": [
    {
     "name": "stdout",
     "output_type": "stream",
     "text": [
      "[23:55:41] WARNING: C:/Users/Administrator/workspace/xgboost-win64_release_1.5.0/src/learner.cc:1115: Starting in XGBoost 1.3.0, the default evaluation metric used with the objective 'multi:softprob' was changed from 'merror' to 'mlogloss'. Explicitly set eval_metric if you'd like to restore the old behavior.\n",
      "[23:55:54] WARNING: C:/Users/Administrator/workspace/xgboost-win64_release_1.5.0/src/learner.cc:1115: Starting in XGBoost 1.3.0, the default evaluation metric used with the objective 'multi:softprob' was changed from 'merror' to 'mlogloss'. Explicitly set eval_metric if you'd like to restore the old behavior.\n",
      "[23:56:07] WARNING: C:/Users/Administrator/workspace/xgboost-win64_release_1.5.0/src/learner.cc:1115: Starting in XGBoost 1.3.0, the default evaluation metric used with the objective 'multi:softprob' was changed from 'merror' to 'mlogloss'. Explicitly set eval_metric if you'd like to restore the old behavior.\n",
      "[23:56:20] WARNING: C:/Users/Administrator/workspace/xgboost-win64_release_1.5.0/src/learner.cc:1115: Starting in XGBoost 1.3.0, the default evaluation metric used with the objective 'multi:softprob' was changed from 'merror' to 'mlogloss'. Explicitly set eval_metric if you'd like to restore the old behavior.\n",
      "[23:56:33] WARNING: C:/Users/Administrator/workspace/xgboost-win64_release_1.5.0/src/learner.cc:1115: Starting in XGBoost 1.3.0, the default evaluation metric used with the objective 'multi:softprob' was changed from 'merror' to 'mlogloss'. Explicitly set eval_metric if you'd like to restore the old behavior.\n",
      "[23:56:46] WARNING: C:/Users/Administrator/workspace/xgboost-win64_release_1.5.0/src/learner.cc:1115: Starting in XGBoost 1.3.0, the default evaluation metric used with the objective 'multi:softprob' was changed from 'merror' to 'mlogloss'. Explicitly set eval_metric if you'd like to restore the old behavior.\n",
      "[23:56:58] WARNING: C:/Users/Administrator/workspace/xgboost-win64_release_1.5.0/src/learner.cc:1115: Starting in XGBoost 1.3.0, the default evaluation metric used with the objective 'multi:softprob' was changed from 'merror' to 'mlogloss'. Explicitly set eval_metric if you'd like to restore the old behavior.\n",
      "[23:57:09] WARNING: C:/Users/Administrator/workspace/xgboost-win64_release_1.5.0/src/learner.cc:1115: Starting in XGBoost 1.3.0, the default evaluation metric used with the objective 'multi:softprob' was changed from 'merror' to 'mlogloss'. Explicitly set eval_metric if you'd like to restore the old behavior.\n",
      "[23:57:20] WARNING: C:/Users/Administrator/workspace/xgboost-win64_release_1.5.0/src/learner.cc:1115: Starting in XGBoost 1.3.0, the default evaluation metric used with the objective 'multi:softprob' was changed from 'merror' to 'mlogloss'. Explicitly set eval_metric if you'd like to restore the old behavior.\n",
      "[23:57:33] WARNING: C:/Users/Administrator/workspace/xgboost-win64_release_1.5.0/src/learner.cc:1115: Starting in XGBoost 1.3.0, the default evaluation metric used with the objective 'multi:softprob' was changed from 'merror' to 'mlogloss'. Explicitly set eval_metric if you'd like to restore the old behavior.\n",
      "[23:57:44] WARNING: C:/Users/Administrator/workspace/xgboost-win64_release_1.5.0/src/learner.cc:1115: Starting in XGBoost 1.3.0, the default evaluation metric used with the objective 'multi:softprob' was changed from 'merror' to 'mlogloss'. Explicitly set eval_metric if you'd like to restore the old behavior.\n",
      "[23:57:56] WARNING: C:/Users/Administrator/workspace/xgboost-win64_release_1.5.0/src/learner.cc:1115: Starting in XGBoost 1.3.0, the default evaluation metric used with the objective 'multi:softprob' was changed from 'merror' to 'mlogloss'. Explicitly set eval_metric if you'd like to restore the old behavior.\n",
      "[23:58:07] WARNING: C:/Users/Administrator/workspace/xgboost-win64_release_1.5.0/src/learner.cc:1115: Starting in XGBoost 1.3.0, the default evaluation metric used with the objective 'multi:softprob' was changed from 'merror' to 'mlogloss'. Explicitly set eval_metric if you'd like to restore the old behavior.\n",
      "[23:58:18] WARNING: C:/Users/Administrator/workspace/xgboost-win64_release_1.5.0/src/learner.cc:1115: Starting in XGBoost 1.3.0, the default evaluation metric used with the objective 'multi:softprob' was changed from 'merror' to 'mlogloss'. Explicitly set eval_metric if you'd like to restore the old behavior.\n",
      "[23:58:30] WARNING: C:/Users/Administrator/workspace/xgboost-win64_release_1.5.0/src/learner.cc:1115: Starting in XGBoost 1.3.0, the default evaluation metric used with the objective 'multi:softprob' was changed from 'merror' to 'mlogloss'. Explicitly set eval_metric if you'd like to restore the old behavior.\n",
      "[23:58:42] WARNING: C:/Users/Administrator/workspace/xgboost-win64_release_1.5.0/src/learner.cc:1115: Starting in XGBoost 1.3.0, the default evaluation metric used with the objective 'multi:softprob' was changed from 'merror' to 'mlogloss'. Explicitly set eval_metric if you'd like to restore the old behavior.\n",
      "[23:58:54] WARNING: C:/Users/Administrator/workspace/xgboost-win64_release_1.5.0/src/learner.cc:1115: Starting in XGBoost 1.3.0, the default evaluation metric used with the objective 'multi:softprob' was changed from 'merror' to 'mlogloss'. Explicitly set eval_metric if you'd like to restore the old behavior.\n",
      "[23:59:05] WARNING: C:/Users/Administrator/workspace/xgboost-win64_release_1.5.0/src/learner.cc:1115: Starting in XGBoost 1.3.0, the default evaluation metric used with the objective 'multi:softprob' was changed from 'merror' to 'mlogloss'. Explicitly set eval_metric if you'd like to restore the old behavior.\n",
      "[23:59:17] WARNING: C:/Users/Administrator/workspace/xgboost-win64_release_1.5.0/src/learner.cc:1115: Starting in XGBoost 1.3.0, the default evaluation metric used with the objective 'multi:softprob' was changed from 'merror' to 'mlogloss'. Explicitly set eval_metric if you'd like to restore the old behavior.\n",
      "[23:59:30] WARNING: C:/Users/Administrator/workspace/xgboost-win64_release_1.5.0/src/learner.cc:1115: Starting in XGBoost 1.3.0, the default evaluation metric used with the objective 'multi:softprob' was changed from 'merror' to 'mlogloss'. Explicitly set eval_metric if you'd like to restore the old behavior.\n"
     ]
    }
   ],
   "source": [
    "xgb_train_acc = []\n",
    "xgb_test_acc = []\n",
    "for i in range (0, 20):\n",
    "    x_train, x_test, y_train, y_test = train_test_split(x, y, test_size=0.2, random_state=i+1)\n",
    "    bow = CountVectorizer()\n",
    "    x_train_bow = bow.fit_transform(x_train)\n",
    "    x_test_bow = bow.transform(x_test)\n",
    "    XGB.fit(x_train_bow, y_train)\n",
    "    y_pred = XGB.predict(x_test_bow)\n",
    "    y_train_pred = XGB.predict(x_train_bow)\n",
    "    xgb_train_acc.append(metrics.accuracy_score(y_train, y_train_pred))\n",
    "    xgb_test_acc.append(metrics.accuracy_score(y_test, y_pred))"
   ]
  },
  {
   "cell_type": "code",
   "execution_count": 316,
   "id": "d23de49a",
   "metadata": {},
   "outputs": [],
   "source": [
    "xgb_mean_train_acc_bow = sum(xgb_train_acc)/len(xgb_train_acc)\n",
    "xgb_mean_test_acc_bow = sum(xgb_test_acc)/len(xgb_test_acc)"
   ]
  },
  {
   "cell_type": "code",
   "execution_count": 317,
   "id": "6380840f",
   "metadata": {},
   "outputs": [
    {
     "data": {
      "text/plain": [
       "(0.7070125, 0.4375)"
      ]
     },
     "execution_count": 317,
     "metadata": {},
     "output_type": "execute_result"
    }
   ],
   "source": [
    "xgb_mean_train_acc_bow, xgb_mean_test_acc_bow"
   ]
  },
  {
   "cell_type": "code",
   "execution_count": null,
   "id": "754619d1",
   "metadata": {},
   "outputs": [],
   "source": []
  },
  {
   "cell_type": "code",
   "execution_count": 318,
   "id": "435b498c",
   "metadata": {},
   "outputs": [],
   "source": [
    "algorithms = ['Logistic Regression', 'Support Vector Machine', 'Random Forest', 'Naive Bayes', 'XGBoost']"
   ]
  },
  {
   "cell_type": "code",
   "execution_count": 319,
   "id": "c19bfd42",
   "metadata": {},
   "outputs": [],
   "source": [
    "bow_df = pd.DataFrame({\n",
    "    'Algorithm' : [], 'Mean Train Accuracy' : [], 'Mean Test Accuracy' :[]\n",
    "})"
   ]
  },
  {
   "cell_type": "code",
   "execution_count": 320,
   "id": "76120d02",
   "metadata": {},
   "outputs": [],
   "source": [
    "mean_train_acc_bow = [lr_mean_train_acc_bow, svm_mean_train_acc_bow, rf_mean_train_acc_bow,\n",
    "                      nb_mean_train_acc_bow, xgb_mean_train_acc_bow]\n",
    "mean_test_acc_bow = [lr_mean_test_acc_bow, svm_mean_test_acc_bow, rf_mean_test_acc_bow,\n",
    "                    nb_mean_test_acc_bow, xgb_mean_test_acc_bow]"
   ]
  },
  {
   "cell_type": "code",
   "execution_count": 321,
   "id": "9a8681ef",
   "metadata": {},
   "outputs": [],
   "source": [
    "for i in range (0, len(algorithms)) :\n",
    "    bow_df = bow_df.append({\n",
    "        'Algorithm' : algorithms[i],\n",
    "        'Mean Train Accuracy' : mean_train_acc_bow[i],\n",
    "        'Mean Test Accuracy' : mean_test_acc_bow[i],\n",
    "    }, ignore_index = True\n",
    "    )"
   ]
  },
  {
   "cell_type": "code",
   "execution_count": 322,
   "id": "264a906b",
   "metadata": {},
   "outputs": [
    {
     "data": {
      "text/html": [
       "<div>\n",
       "<style scoped>\n",
       "    .dataframe tbody tr th:only-of-type {\n",
       "        vertical-align: middle;\n",
       "    }\n",
       "\n",
       "    .dataframe tbody tr th {\n",
       "        vertical-align: top;\n",
       "    }\n",
       "\n",
       "    .dataframe thead th {\n",
       "        text-align: right;\n",
       "    }\n",
       "</style>\n",
       "<table border=\"1\" class=\"dataframe\">\n",
       "  <thead>\n",
       "    <tr style=\"text-align: right;\">\n",
       "      <th></th>\n",
       "      <th>Algorithm</th>\n",
       "      <th>Mean Train Accuracy</th>\n",
       "      <th>Mean Test Accuracy</th>\n",
       "    </tr>\n",
       "  </thead>\n",
       "  <tbody>\n",
       "    <tr>\n",
       "      <th>0</th>\n",
       "      <td>Logistic Regression</td>\n",
       "      <td>0.979313</td>\n",
       "      <td>0.48010</td>\n",
       "    </tr>\n",
       "    <tr>\n",
       "      <th>1</th>\n",
       "      <td>Support Vector Machine</td>\n",
       "      <td>1.000000</td>\n",
       "      <td>0.45135</td>\n",
       "    </tr>\n",
       "    <tr>\n",
       "      <th>2</th>\n",
       "      <td>Random Forest</td>\n",
       "      <td>0.952788</td>\n",
       "      <td>0.42760</td>\n",
       "    </tr>\n",
       "    <tr>\n",
       "      <th>3</th>\n",
       "      <td>Naive Bayes</td>\n",
       "      <td>0.911025</td>\n",
       "      <td>0.49725</td>\n",
       "    </tr>\n",
       "    <tr>\n",
       "      <th>4</th>\n",
       "      <td>XGBoost</td>\n",
       "      <td>0.707013</td>\n",
       "      <td>0.43750</td>\n",
       "    </tr>\n",
       "  </tbody>\n",
       "</table>\n",
       "</div>"
      ],
      "text/plain": [
       "                Algorithm  Mean Train Accuracy  Mean Test Accuracy\n",
       "0     Logistic Regression             0.979313             0.48010\n",
       "1  Support Vector Machine             1.000000             0.45135\n",
       "2           Random Forest             0.952788             0.42760\n",
       "3             Naive Bayes             0.911025             0.49725\n",
       "4                 XGBoost             0.707013             0.43750"
      ]
     },
     "execution_count": 322,
     "metadata": {},
     "output_type": "execute_result"
    }
   ],
   "source": [
    "bow_df"
   ]
  },
  {
   "cell_type": "code",
   "execution_count": 323,
   "id": "048dafc7",
   "metadata": {},
   "outputs": [],
   "source": [
    "bow_df.to_csv('BOW_Results.csv')"
   ]
  },
  {
   "cell_type": "code",
   "execution_count": null,
   "id": "9ebdb2d7",
   "metadata": {},
   "outputs": [],
   "source": []
  },
  {
   "cell_type": "markdown",
   "id": "ae388c99",
   "metadata": {},
   "source": [
    "## Tf-idf"
   ]
  },
  {
   "cell_type": "code",
   "execution_count": 259,
   "id": "e06ac59b",
   "metadata": {},
   "outputs": [],
   "source": [
    "tf_idf = TfidfVectorizer(use_idf=True)"
   ]
  },
  {
   "cell_type": "code",
   "execution_count": 260,
   "id": "5a108c66",
   "metadata": {},
   "outputs": [],
   "source": [
    "x_train, x_test, y_train, y_test = train_test_split(x, y, test_size=0.2, random_state=42)\n",
    "x_train_tf = tf_idf.fit_transform(x_train)"
   ]
  },
  {
   "cell_type": "markdown",
   "id": "8d24ec50",
   "metadata": {},
   "source": [
    "Logistic Regression"
   ]
  },
  {
   "cell_type": "code",
   "execution_count": 261,
   "id": "f980cc26",
   "metadata": {},
   "outputs": [],
   "source": [
    "lr_par = {\n",
    "    'penalty' : ['l2'],\n",
    "    'C' : [0.1, 1.0, 10.0],\n",
    "    'solver' : ['newton-cg', 'lbfgs', 'sag', 'saga'],\n",
    "    'max_iter' : [100, 200, 300]\n",
    "}"
   ]
  },
  {
   "cell_type": "code",
   "execution_count": 263,
   "id": "551236c9",
   "metadata": {},
   "outputs": [
    {
     "data": {
      "text/plain": [
       "{'C': 1.0, 'max_iter': 100, 'penalty': 'l2', 'solver': 'newton-cg'}"
      ]
     },
     "execution_count": 263,
     "metadata": {},
     "output_type": "execute_result"
    }
   ],
   "source": [
    "LR = LogisticRegression()\n",
    "lr_grid = GridSearchCV(LR, lr_par, refit = True, n_jobs=-1, cv=5)\n",
    "lr_grid.fit(x_train_tf, y_train)\n",
    "opt_par = lr_grid.best_params_\n",
    "opt_par"
   ]
  },
  {
   "cell_type": "code",
   "execution_count": 324,
   "id": "b7b8369c",
   "metadata": {},
   "outputs": [],
   "source": [
    "LR = LogisticRegression(C = 1.0, max_iter = 100, penalty = 'l2', solver = 'newton-cg')"
   ]
  },
  {
   "cell_type": "code",
   "execution_count": 325,
   "id": "2cd631a3",
   "metadata": {},
   "outputs": [],
   "source": [
    "lr_train_acc = []\n",
    "lr_test_acc = []\n",
    "for i in range (0, 20):\n",
    "    x_train, x_test, y_train, y_test = train_test_split(x, y, test_size=0.2, random_state=i+1)\n",
    "    tf_idf = TfidfVectorizer(use_idf=True)\n",
    "    x_train_tf = tf_idf.fit_transform(x_train)\n",
    "    x_test_tf = tf_idf.transform(x_test)\n",
    "    LR.fit(x_train_tf, y_train)\n",
    "    y_pred = LR.predict(x_test_tf)\n",
    "    y_train_pred = LR.predict(x_train_tf)\n",
    "    lr_train_acc.append(metrics.accuracy_score(y_train, y_train_pred))\n",
    "    lr_test_acc.append(metrics.accuracy_score(y_test, y_pred))"
   ]
  },
  {
   "cell_type": "code",
   "execution_count": 326,
   "id": "165f524c",
   "metadata": {},
   "outputs": [],
   "source": [
    "lr_mean_train_acc_tf = sum(lr_train_acc)/len(lr_train_acc)\n",
    "lr_mean_test_acc_tf = sum(lr_test_acc)/len(lr_test_acc)"
   ]
  },
  {
   "cell_type": "code",
   "execution_count": 327,
   "id": "efd7471e",
   "metadata": {},
   "outputs": [
    {
     "data": {
      "text/plain": [
       "(0.9215875, 0.4869)"
      ]
     },
     "execution_count": 327,
     "metadata": {},
     "output_type": "execute_result"
    }
   ],
   "source": [
    "lr_mean_train_acc_tf, lr_mean_test_acc_tf"
   ]
  },
  {
   "cell_type": "code",
   "execution_count": null,
   "id": "5edd91db",
   "metadata": {},
   "outputs": [],
   "source": []
  },
  {
   "cell_type": "markdown",
   "id": "651464be",
   "metadata": {},
   "source": [
    "Support Vector Machine"
   ]
  },
  {
   "cell_type": "code",
   "execution_count": 265,
   "id": "8dc283ef",
   "metadata": {},
   "outputs": [],
   "source": [
    "svm_par = [\n",
    "   { 'C' : [0.1, 1.0, 10.0],\n",
    "    'kernel' : ['linear']\n",
    "   },\n",
    "   { 'C' : [0.1, 1.0, 10.0],\n",
    "    'kernel' : ['poly'],\n",
    "    'degree' : [2, 3, 4],\n",
    "    'gamma' : ['scale', 'auto']\n",
    "   },\n",
    "   { 'C' : [0.1, 1.0, 10.0],\n",
    "    'kernel' : ['rbf', 'sigmoid'],\n",
    "    'gamma' : ['scale', 'auto']\n",
    "    }\n",
    "]"
   ]
  },
  {
   "cell_type": "code",
   "execution_count": 266,
   "id": "29dc34f5",
   "metadata": {},
   "outputs": [
    {
     "data": {
      "text/plain": [
       "{'C': 1.0, 'degree': 2, 'gamma': 'scale', 'kernel': 'poly'}"
      ]
     },
     "execution_count": 266,
     "metadata": {},
     "output_type": "execute_result"
    }
   ],
   "source": [
    "SVM = SVC()\n",
    "svm_grid = GridSearchCV(SVM, svm_par, refit = True, n_jobs=-1, cv=5)\n",
    "svm_grid.fit(x_train_tf, y_train)\n",
    "opt_par = svm_grid.best_params_\n",
    "opt_par"
   ]
  },
  {
   "cell_type": "code",
   "execution_count": 328,
   "id": "8378f6a4",
   "metadata": {},
   "outputs": [],
   "source": [
    "SVM = SVC(C = 1.0, degree = 2, gamma = 'scale', kernel = 'poly' )"
   ]
  },
  {
   "cell_type": "code",
   "execution_count": 329,
   "id": "1ac25b31",
   "metadata": {},
   "outputs": [],
   "source": [
    "svm_train_acc = []\n",
    "svm_test_acc = []\n",
    "for i in range (0, 20):\n",
    "    x_train, x_test, y_train, y_test = train_test_split(x, y, test_size=0.2, random_state=i+1)\n",
    "    tf_idf = TfidfVectorizer(use_idf=True)\n",
    "    x_train_tf = tf_idf.fit_transform(x_train)\n",
    "    x_test_tf = tf_idf.transform(x_test)\n",
    "    SVM.fit(x_train_tf, y_train)\n",
    "    y_pred = SVM.predict(x_test_tf)\n",
    "    y_train_pred = SVM.predict(x_train_tf)\n",
    "    svm_train_acc.append(metrics.accuracy_score(y_train, y_train_pred))\n",
    "    svm_test_acc.append(metrics.accuracy_score(y_test, y_pred))"
   ]
  },
  {
   "cell_type": "code",
   "execution_count": 330,
   "id": "ee7e108d",
   "metadata": {},
   "outputs": [],
   "source": [
    "svm_mean_train_acc_tf = sum(svm_train_acc)/len(svm_train_acc)\n",
    "svm_mean_test_acc_tf = sum(svm_test_acc)/len(svm_test_acc)"
   ]
  },
  {
   "cell_type": "code",
   "execution_count": 331,
   "id": "c6523751",
   "metadata": {},
   "outputs": [
    {
     "data": {
      "text/plain": [
       "(0.9997499999999999, 0.4967999999999999)"
      ]
     },
     "execution_count": 331,
     "metadata": {},
     "output_type": "execute_result"
    }
   ],
   "source": [
    "svm_mean_train_acc_tf, svm_mean_test_acc_tf"
   ]
  },
  {
   "cell_type": "code",
   "execution_count": null,
   "id": "3039cfd6",
   "metadata": {},
   "outputs": [],
   "source": []
  },
  {
   "cell_type": "markdown",
   "id": "ba3a02e4",
   "metadata": {},
   "source": [
    "Random Forest"
   ]
  },
  {
   "cell_type": "code",
   "execution_count": 267,
   "id": "6db82ae3",
   "metadata": {},
   "outputs": [],
   "source": [
    "rf_par = {\n",
    "    'n_estimators' : [50, 100, 200],\n",
    "    'criterion' : ['gini', 'entropy'],\n",
    "    'max_depth' : [8, 16, 32],\n",
    "    'max_features' : ['sqrt', 'log2']\n",
    "}"
   ]
  },
  {
   "cell_type": "code",
   "execution_count": 268,
   "id": "3f6c9bef",
   "metadata": {},
   "outputs": [
    {
     "data": {
      "text/plain": [
       "{'criterion': 'gini',\n",
       " 'max_depth': 32,\n",
       " 'max_features': 'log2',\n",
       " 'n_estimators': 200}"
      ]
     },
     "execution_count": 268,
     "metadata": {},
     "output_type": "execute_result"
    }
   ],
   "source": [
    "RF = RandomForestClassifier()\n",
    "rf_grid = GridSearchCV(RF, rf_par, refit = True, n_jobs=-1, cv=5)\n",
    "rf_grid.fit(x_train_tf, y_train)\n",
    "opt_par = rf_grid.best_params_\n",
    "opt_par"
   ]
  },
  {
   "cell_type": "code",
   "execution_count": 332,
   "id": "a0285ce0",
   "metadata": {},
   "outputs": [],
   "source": [
    "RF = RandomForestClassifier(criterion = 'gini', max_depth = 32, max_features = 'log2', n_estimators = 200)"
   ]
  },
  {
   "cell_type": "code",
   "execution_count": 333,
   "id": "39179ee7",
   "metadata": {},
   "outputs": [],
   "source": [
    "rf_train_acc = []\n",
    "rf_test_acc = []\n",
    "for i in range (0, 20):\n",
    "    x_train, x_test, y_train, y_test = train_test_split(x, y, test_size=0.2, random_state=i+1)\n",
    "    tf_idf = TfidfVectorizer(use_idf=True)\n",
    "    x_train_tf = tf_idf.fit_transform(x_train)\n",
    "    x_test_tf = tf_idf.transform(x_test)\n",
    "    RF.fit(x_train_tf, y_train)\n",
    "    y_pred = RF.predict(x_test_tf)\n",
    "    y_train_pred = RF.predict(x_train_tf)\n",
    "    rf_train_acc.append(metrics.accuracy_score(y_train, y_train_pred))\n",
    "    rf_test_acc.append(metrics.accuracy_score(y_test, y_pred))"
   ]
  },
  {
   "cell_type": "code",
   "execution_count": 334,
   "id": "01b7c3fd",
   "metadata": {},
   "outputs": [],
   "source": [
    "rf_mean_train_acc_tf = sum(rf_train_acc)/len(rf_train_acc)\n",
    "rf_mean_test_acc_tf = sum(rf_test_acc)/len(rf_test_acc)"
   ]
  },
  {
   "cell_type": "code",
   "execution_count": 335,
   "id": "d46b0a9f",
   "metadata": {},
   "outputs": [
    {
     "data": {
      "text/plain": [
       "(0.8920000000000001, 0.41744999999999993)"
      ]
     },
     "execution_count": 335,
     "metadata": {},
     "output_type": "execute_result"
    }
   ],
   "source": [
    "rf_mean_train_acc_tf, rf_mean_test_acc_tf"
   ]
  },
  {
   "cell_type": "code",
   "execution_count": null,
   "id": "b3835b79",
   "metadata": {},
   "outputs": [],
   "source": []
  },
  {
   "cell_type": "markdown",
   "id": "5b14555e",
   "metadata": {},
   "source": [
    "Naive Bayes"
   ]
  },
  {
   "cell_type": "code",
   "execution_count": 336,
   "id": "796f3524",
   "metadata": {},
   "outputs": [],
   "source": [
    "NB = MultinomialNB()"
   ]
  },
  {
   "cell_type": "code",
   "execution_count": 337,
   "id": "eba03991",
   "metadata": {},
   "outputs": [],
   "source": [
    "nb_train_acc = []\n",
    "nb_test_acc = []\n",
    "for i in range (0, 20):\n",
    "    x_train, x_test, y_train, y_test = train_test_split(x, y, test_size=0.2, random_state=i+1)\n",
    "    tf_idf = TfidfVectorizer(use_idf=True)\n",
    "    x_train_tf = tf_idf.fit_transform(x_train)\n",
    "    x_test_tf = tf_idf.transform(x_test)\n",
    "    NB.fit(x_train_tf, y_train)\n",
    "    y_pred = NB.predict(x_test_tf)\n",
    "    y_train_pred = NB.predict(x_train_tf)\n",
    "    nb_train_acc.append(metrics.accuracy_score(y_train, y_train_pred))\n",
    "    nb_test_acc.append(metrics.accuracy_score(y_test, y_pred))"
   ]
  },
  {
   "cell_type": "code",
   "execution_count": 338,
   "id": "ee7a0d57",
   "metadata": {},
   "outputs": [],
   "source": [
    "nb_mean_train_acc_tf = sum(nb_train_acc)/len(nb_train_acc)\n",
    "nb_mean_test_acc_tf = sum(nb_test_acc)/len(nb_test_acc)"
   ]
  },
  {
   "cell_type": "code",
   "execution_count": 339,
   "id": "e8d50c95",
   "metadata": {},
   "outputs": [
    {
     "data": {
      "text/plain": [
       "(0.917225, 0.49985000000000007)"
      ]
     },
     "execution_count": 339,
     "metadata": {},
     "output_type": "execute_result"
    }
   ],
   "source": [
    "nb_mean_train_acc_tf, nb_mean_test_acc_tf"
   ]
  },
  {
   "cell_type": "code",
   "execution_count": null,
   "id": "b77ba62c",
   "metadata": {},
   "outputs": [],
   "source": []
  },
  {
   "cell_type": "markdown",
   "id": "88d6bc7f",
   "metadata": {},
   "source": [
    "XGBoost"
   ]
  },
  {
   "cell_type": "code",
   "execution_count": 269,
   "id": "1f079e05",
   "metadata": {},
   "outputs": [],
   "source": [
    "xgb_par = {\n",
    "    'n_estimators' : [20, 50, 100],\n",
    "    'use_label_encoder' : [False],\n",
    "    'max_depth' : [8, 16, 32],\n",
    "    'learning_rate' : [0.01, 0.1]\n",
    "}"
   ]
  },
  {
   "cell_type": "code",
   "execution_count": 270,
   "id": "ae115840",
   "metadata": {},
   "outputs": [
    {
     "name": "stdout",
     "output_type": "stream",
     "text": [
      "[23:26:27] WARNING: C:/Users/Administrator/workspace/xgboost-win64_release_1.5.0/src/learner.cc:1115: Starting in XGBoost 1.3.0, the default evaluation metric used with the objective 'multi:softprob' was changed from 'merror' to 'mlogloss'. Explicitly set eval_metric if you'd like to restore the old behavior.\n"
     ]
    },
    {
     "data": {
      "text/plain": [
       "{'learning_rate': 0.1,\n",
       " 'max_depth': 32,\n",
       " 'n_estimators': 100,\n",
       " 'use_label_encoder': False}"
      ]
     },
     "execution_count": 270,
     "metadata": {},
     "output_type": "execute_result"
    }
   ],
   "source": [
    "XGB = XGBClassifier()\n",
    "xgb_grid = GridSearchCV(XGB, xgb_par, refit = True, n_jobs=-1, cv=5)\n",
    "xgb_grid.fit(x_train_tf, y_train)\n",
    "opt_par = xgb_grid.best_params_\n",
    "opt_par"
   ]
  },
  {
   "cell_type": "code",
   "execution_count": 340,
   "id": "88c82cb0",
   "metadata": {},
   "outputs": [],
   "source": [
    "XGB = XGBClassifier(learning_rate = 0.1, max_depth = 32, n_estimators = 100, use_label_encoder = False)"
   ]
  },
  {
   "cell_type": "code",
   "execution_count": 341,
   "id": "e2242119",
   "metadata": {},
   "outputs": [
    {
     "name": "stdout",
     "output_type": "stream",
     "text": [
      "[00:01:52] WARNING: C:/Users/Administrator/workspace/xgboost-win64_release_1.5.0/src/learner.cc:1115: Starting in XGBoost 1.3.0, the default evaluation metric used with the objective 'multi:softprob' was changed from 'merror' to 'mlogloss'. Explicitly set eval_metric if you'd like to restore the old behavior.\n",
      "[00:02:14] WARNING: C:/Users/Administrator/workspace/xgboost-win64_release_1.5.0/src/learner.cc:1115: Starting in XGBoost 1.3.0, the default evaluation metric used with the objective 'multi:softprob' was changed from 'merror' to 'mlogloss'. Explicitly set eval_metric if you'd like to restore the old behavior.\n",
      "[00:02:36] WARNING: C:/Users/Administrator/workspace/xgboost-win64_release_1.5.0/src/learner.cc:1115: Starting in XGBoost 1.3.0, the default evaluation metric used with the objective 'multi:softprob' was changed from 'merror' to 'mlogloss'. Explicitly set eval_metric if you'd like to restore the old behavior.\n",
      "[00:02:58] WARNING: C:/Users/Administrator/workspace/xgboost-win64_release_1.5.0/src/learner.cc:1115: Starting in XGBoost 1.3.0, the default evaluation metric used with the objective 'multi:softprob' was changed from 'merror' to 'mlogloss'. Explicitly set eval_metric if you'd like to restore the old behavior.\n",
      "[00:03:19] WARNING: C:/Users/Administrator/workspace/xgboost-win64_release_1.5.0/src/learner.cc:1115: Starting in XGBoost 1.3.0, the default evaluation metric used with the objective 'multi:softprob' was changed from 'merror' to 'mlogloss'. Explicitly set eval_metric if you'd like to restore the old behavior.\n",
      "[00:03:41] WARNING: C:/Users/Administrator/workspace/xgboost-win64_release_1.5.0/src/learner.cc:1115: Starting in XGBoost 1.3.0, the default evaluation metric used with the objective 'multi:softprob' was changed from 'merror' to 'mlogloss'. Explicitly set eval_metric if you'd like to restore the old behavior.\n",
      "[00:04:02] WARNING: C:/Users/Administrator/workspace/xgboost-win64_release_1.5.0/src/learner.cc:1115: Starting in XGBoost 1.3.0, the default evaluation metric used with the objective 'multi:softprob' was changed from 'merror' to 'mlogloss'. Explicitly set eval_metric if you'd like to restore the old behavior.\n",
      "[00:04:24] WARNING: C:/Users/Administrator/workspace/xgboost-win64_release_1.5.0/src/learner.cc:1115: Starting in XGBoost 1.3.0, the default evaluation metric used with the objective 'multi:softprob' was changed from 'merror' to 'mlogloss'. Explicitly set eval_metric if you'd like to restore the old behavior.\n",
      "[00:04:46] WARNING: C:/Users/Administrator/workspace/xgboost-win64_release_1.5.0/src/learner.cc:1115: Starting in XGBoost 1.3.0, the default evaluation metric used with the objective 'multi:softprob' was changed from 'merror' to 'mlogloss'. Explicitly set eval_metric if you'd like to restore the old behavior.\n",
      "[00:05:07] WARNING: C:/Users/Administrator/workspace/xgboost-win64_release_1.5.0/src/learner.cc:1115: Starting in XGBoost 1.3.0, the default evaluation metric used with the objective 'multi:softprob' was changed from 'merror' to 'mlogloss'. Explicitly set eval_metric if you'd like to restore the old behavior.\n",
      "[00:05:29] WARNING: C:/Users/Administrator/workspace/xgboost-win64_release_1.5.0/src/learner.cc:1115: Starting in XGBoost 1.3.0, the default evaluation metric used with the objective 'multi:softprob' was changed from 'merror' to 'mlogloss'. Explicitly set eval_metric if you'd like to restore the old behavior.\n",
      "[00:05:51] WARNING: C:/Users/Administrator/workspace/xgboost-win64_release_1.5.0/src/learner.cc:1115: Starting in XGBoost 1.3.0, the default evaluation metric used with the objective 'multi:softprob' was changed from 'merror' to 'mlogloss'. Explicitly set eval_metric if you'd like to restore the old behavior.\n",
      "[00:06:12] WARNING: C:/Users/Administrator/workspace/xgboost-win64_release_1.5.0/src/learner.cc:1115: Starting in XGBoost 1.3.0, the default evaluation metric used with the objective 'multi:softprob' was changed from 'merror' to 'mlogloss'. Explicitly set eval_metric if you'd like to restore the old behavior.\n",
      "[00:06:34] WARNING: C:/Users/Administrator/workspace/xgboost-win64_release_1.5.0/src/learner.cc:1115: Starting in XGBoost 1.3.0, the default evaluation metric used with the objective 'multi:softprob' was changed from 'merror' to 'mlogloss'. Explicitly set eval_metric if you'd like to restore the old behavior.\n",
      "[00:06:56] WARNING: C:/Users/Administrator/workspace/xgboost-win64_release_1.5.0/src/learner.cc:1115: Starting in XGBoost 1.3.0, the default evaluation metric used with the objective 'multi:softprob' was changed from 'merror' to 'mlogloss'. Explicitly set eval_metric if you'd like to restore the old behavior.\n",
      "[00:07:18] WARNING: C:/Users/Administrator/workspace/xgboost-win64_release_1.5.0/src/learner.cc:1115: Starting in XGBoost 1.3.0, the default evaluation metric used with the objective 'multi:softprob' was changed from 'merror' to 'mlogloss'. Explicitly set eval_metric if you'd like to restore the old behavior.\n",
      "[00:07:40] WARNING: C:/Users/Administrator/workspace/xgboost-win64_release_1.5.0/src/learner.cc:1115: Starting in XGBoost 1.3.0, the default evaluation metric used with the objective 'multi:softprob' was changed from 'merror' to 'mlogloss'. Explicitly set eval_metric if you'd like to restore the old behavior.\n",
      "[00:08:02] WARNING: C:/Users/Administrator/workspace/xgboost-win64_release_1.5.0/src/learner.cc:1115: Starting in XGBoost 1.3.0, the default evaluation metric used with the objective 'multi:softprob' was changed from 'merror' to 'mlogloss'. Explicitly set eval_metric if you'd like to restore the old behavior.\n",
      "[00:08:23] WARNING: C:/Users/Administrator/workspace/xgboost-win64_release_1.5.0/src/learner.cc:1115: Starting in XGBoost 1.3.0, the default evaluation metric used with the objective 'multi:softprob' was changed from 'merror' to 'mlogloss'. Explicitly set eval_metric if you'd like to restore the old behavior.\n",
      "[00:08:45] WARNING: C:/Users/Administrator/workspace/xgboost-win64_release_1.5.0/src/learner.cc:1115: Starting in XGBoost 1.3.0, the default evaluation metric used with the objective 'multi:softprob' was changed from 'merror' to 'mlogloss'. Explicitly set eval_metric if you'd like to restore the old behavior.\n"
     ]
    }
   ],
   "source": [
    "xgb_train_acc = []\n",
    "xgb_test_acc = []\n",
    "for i in range (0, 20):\n",
    "    x_train, x_test, y_train, y_test = train_test_split(x, y, test_size=0.2, random_state=i+1)\n",
    "    tf_idf = TfidfVectorizer(use_idf=True)\n",
    "    x_train_tf = tf_idf.fit_transform(x_train)\n",
    "    x_test_tf = tf_idf.transform(x_test)\n",
    "    XGB.fit(x_train_tf, y_train)\n",
    "    y_pred = XGB.predict(x_test_tf)\n",
    "    y_train_pred = XGB.predict(x_train_tf)\n",
    "    xgb_train_acc.append(metrics.accuracy_score(y_train, y_train_pred))\n",
    "    xgb_test_acc.append(metrics.accuracy_score(y_test, y_pred))"
   ]
  },
  {
   "cell_type": "code",
   "execution_count": 342,
   "id": "7e8c44c7",
   "metadata": {},
   "outputs": [],
   "source": [
    "xgb_mean_train_acc_tf = sum(xgb_train_acc)/len(xgb_train_acc)\n",
    "xgb_mean_test_acc_tf = sum(xgb_test_acc)/len(xgb_test_acc)"
   ]
  },
  {
   "cell_type": "code",
   "execution_count": 343,
   "id": "80f99672",
   "metadata": {},
   "outputs": [
    {
     "data": {
      "text/plain": [
       "(0.8508375000000001, 0.3986)"
      ]
     },
     "execution_count": 343,
     "metadata": {},
     "output_type": "execute_result"
    }
   ],
   "source": [
    "xgb_mean_train_acc_tf, xgb_mean_test_acc_tf"
   ]
  },
  {
   "cell_type": "code",
   "execution_count": null,
   "id": "755d0f91",
   "metadata": {},
   "outputs": [],
   "source": []
  },
  {
   "cell_type": "code",
   "execution_count": 344,
   "id": "ca9d5c17",
   "metadata": {},
   "outputs": [],
   "source": [
    "algorithms = ['Logistic Regression', 'Support Vector Machine', 'Random Forest', 'Naive Bayes', 'XGBoost']"
   ]
  },
  {
   "cell_type": "code",
   "execution_count": 345,
   "id": "2229df1e",
   "metadata": {},
   "outputs": [],
   "source": [
    "tf_df = pd.DataFrame({\n",
    "    'Algorithm' : [], 'Mean Train Accuracy' : [], 'Mean Test Accuracy' :[]\n",
    "})"
   ]
  },
  {
   "cell_type": "code",
   "execution_count": 346,
   "id": "1e8358e3",
   "metadata": {},
   "outputs": [],
   "source": [
    "mean_train_acc_tf = [lr_mean_train_acc_tf, svm_mean_train_acc_tf, rf_mean_train_acc_tf,\n",
    "                      nb_mean_train_acc_tf, xgb_mean_train_acc_tf]\n",
    "mean_test_acc_tf = [lr_mean_test_acc_tf, svm_mean_test_acc_tf, rf_mean_test_acc_tf,\n",
    "                    nb_mean_test_acc_tf, xgb_mean_test_acc_tf]"
   ]
  },
  {
   "cell_type": "code",
   "execution_count": 347,
   "id": "9970486d",
   "metadata": {},
   "outputs": [],
   "source": [
    "for i in range (0, len(algorithms)) :\n",
    "    tf_df = tf_df.append({\n",
    "        'Algorithm' : algorithms[i],\n",
    "        'Mean Train Accuracy' : mean_train_acc_tf[i],\n",
    "        'Mean Test Accuracy' : mean_test_acc_tf[i],\n",
    "    }, ignore_index = True\n",
    "    )"
   ]
  },
  {
   "cell_type": "code",
   "execution_count": 348,
   "id": "2f4545b2",
   "metadata": {},
   "outputs": [
    {
     "data": {
      "text/html": [
       "<div>\n",
       "<style scoped>\n",
       "    .dataframe tbody tr th:only-of-type {\n",
       "        vertical-align: middle;\n",
       "    }\n",
       "\n",
       "    .dataframe tbody tr th {\n",
       "        vertical-align: top;\n",
       "    }\n",
       "\n",
       "    .dataframe thead th {\n",
       "        text-align: right;\n",
       "    }\n",
       "</style>\n",
       "<table border=\"1\" class=\"dataframe\">\n",
       "  <thead>\n",
       "    <tr style=\"text-align: right;\">\n",
       "      <th></th>\n",
       "      <th>Algorithm</th>\n",
       "      <th>Mean Train Accuracy</th>\n",
       "      <th>Mean Test Accuracy</th>\n",
       "    </tr>\n",
       "  </thead>\n",
       "  <tbody>\n",
       "    <tr>\n",
       "      <th>0</th>\n",
       "      <td>Logistic Regression</td>\n",
       "      <td>0.921588</td>\n",
       "      <td>0.48690</td>\n",
       "    </tr>\n",
       "    <tr>\n",
       "      <th>1</th>\n",
       "      <td>Support Vector Machine</td>\n",
       "      <td>0.999750</td>\n",
       "      <td>0.49680</td>\n",
       "    </tr>\n",
       "    <tr>\n",
       "      <th>2</th>\n",
       "      <td>Random Forest</td>\n",
       "      <td>0.892000</td>\n",
       "      <td>0.41745</td>\n",
       "    </tr>\n",
       "    <tr>\n",
       "      <th>3</th>\n",
       "      <td>Naive Bayes</td>\n",
       "      <td>0.917225</td>\n",
       "      <td>0.49985</td>\n",
       "    </tr>\n",
       "    <tr>\n",
       "      <th>4</th>\n",
       "      <td>XGBoost</td>\n",
       "      <td>0.850838</td>\n",
       "      <td>0.39860</td>\n",
       "    </tr>\n",
       "  </tbody>\n",
       "</table>\n",
       "</div>"
      ],
      "text/plain": [
       "                Algorithm  Mean Train Accuracy  Mean Test Accuracy\n",
       "0     Logistic Regression             0.921588             0.48690\n",
       "1  Support Vector Machine             0.999750             0.49680\n",
       "2           Random Forest             0.892000             0.41745\n",
       "3             Naive Bayes             0.917225             0.49985\n",
       "4                 XGBoost             0.850838             0.39860"
      ]
     },
     "execution_count": 348,
     "metadata": {},
     "output_type": "execute_result"
    }
   ],
   "source": [
    "tf_df"
   ]
  },
  {
   "cell_type": "code",
   "execution_count": 349,
   "id": "ba55d954",
   "metadata": {},
   "outputs": [],
   "source": [
    "tf_df.to_csv('TF-IDF_Results.csv')"
   ]
  },
  {
   "cell_type": "code",
   "execution_count": null,
   "id": "1d799cc7",
   "metadata": {},
   "outputs": [],
   "source": []
  }
 ],
 "metadata": {
  "kernelspec": {
   "display_name": "Python 3",
   "language": "python",
   "name": "python3"
  },
  "language_info": {
   "codemirror_mode": {
    "name": "ipython",
    "version": 3
   },
   "file_extension": ".py",
   "mimetype": "text/x-python",
   "name": "python",
   "nbconvert_exporter": "python",
   "pygments_lexer": "ipython3",
   "version": "3.8.8"
  }
 },
 "nbformat": 4,
 "nbformat_minor": 5
}
